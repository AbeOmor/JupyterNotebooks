{
 "cells": [
  {
   "cell_type": "markdown",
   "metadata": {},
   "source": [
    "# Availability Groups\n",
    "\n",
    "***You will need to have followed the steps in the 00-CreateContainers notebook to use this notebook***\n",
    "\n",
    "We have written a book which will give you a brilliant introduction to dbatools. It's called dbatools in a Month of Lunches and you can find it at https://beard.media/book\n",
    "\n",
    "Setting up availabilty groups is hard\n",
    "\n",
    "with dbatools it is a little easier :-)\n",
    "\n",
    "The next block sets the variables for the instances and folder paths for this Notebook and checks the connection - Refer to the first notebook for any issues"
   ]
  },
  {
   "cell_type": "code",
   "execution_count": 65,
   "metadata": {
    "jupyter": {
     "source_hidden": true
    }
   },
   "outputs": [
    {
     "name": "stdout",
     "output_type": "stream",
     "text": [
      " Creating connection to the containers\n",
      "We have a connection to the containers\n"
     ]
    }
   ],
   "source": [
    "$FolderPath = $Env:USERPROFILE + '\\Documents\\dbatoolsdemo'\n",
    "$SqlInstances = 'localhost,15592', 'localhost,15593'\n",
    "$SqlCredential = Import-Clixml -Path $FolderPath\\sqladmin.cred\n",
    "Write-Output \" Creating connection to the containers\"\n",
    "try {\n",
    "    $SQL1 = Connect-DbaInstance -SqlInstance $SqlInstances[0] -SqlCredential $SqlCredential \n",
    "    $SQL2 = Connect-DbaInstance -SqlInstance $SqlInstances[1] -SqlCredential $SqlCredential\n",
    "    Write-Output \"We have a connection to the containers\"\n",
    "\n",
    "}\n",
    "catch {\n",
    "    Write-Output \"You haven't got a connection to the containers - Either they are still upgrading in which case try again in 30 seconds or the containers have not come up correctly\"\n",
    "    Write-Output \"Make sure the containers are running - the code is below in a block for you\"\n",
    "    Write-Output \"docker ps -a\"\n",
    "    Write-Output \"If they are read the logs - the code is below in a block for you\"\n",
    "    Write-Output \"docker logs dbatools_SQL2019_1\"\n",
    "    Write-Output \"docker logs dbatools_SQL2019-1_1\"\n",
    "}"
   ]
  },
  {
   "cell_type": "markdown",
   "metadata": {},
   "source": [
    "**NEVER EVER DO THIS IN PRODUCTION**\n",
    "unless you need to delete all of your user databases for some reason\n"
   ]
  },
  {
   "cell_type": "code",
   "execution_count": 38,
   "metadata": {},
   "outputs": [
    {
     "name": "stdout",
     "output_type": "stream",
     "text": [
      "\n",
      "ComputerName : localhost\n",
      "InstanceName : MSSQLSERVER\n",
      "SqlInstance  : c134b2316f63\n",
      "Database     : AdventureWorks2017\n",
      "Status       : Dropped\n",
      "\n",
      "ComputerName : localhost\n",
      "InstanceName : MSSQLSERVER\n",
      "SqlInstance  : c134b2316f63\n",
      "Database     : Northwind\n",
      "Status       : Dropped\n",
      "\n",
      "ComputerName : localhost\n",
      "InstanceName : MSSQLSERVER\n",
      "SqlInstance  : c134b2316f63\n",
      "Database     : pubs\n",
      "Status       : Dropped\n",
      "\n",
      "\n"
     ]
    }
   ],
   "source": [
    "Get-DbaDatabase -SqlInstance $SQL2 -ExcludeAllSystemDb | Remove-DbaDatabase -Confirm:$false"
   ]
  },
  {
   "cell_type": "markdown",
   "metadata": {},
   "source": [
    "# Containers\n",
    "\n",
    "dbatools is not able to create availability groups in containers, so we will create an availability group below using T-SQL. If you are not using containers you can create an availability group with dbatools like this\n",
    "\n",
    "````\n",
    "$params = @{\n",
    "    Primary = $SqlInstances[0]\n",
    "    PrimarySqlCredential =  $SqlCredential \n",
    "    Secondary =   $SqlInstances[1]\n",
    "    SecondarySqlCredential = $SqlCredential \n",
    "    Name = 'TheBeard_AG'\n",
    "    Database = 'pubs','NorthWind','AdventureWorks2017'\n",
    "    ClusterType = \"None\"\n",
    "    SeedingMode = \"Automatic\"\n",
    "    FailoverMode = \"Manual\"\n",
    "    Confirm = $false\n",
    " }\n",
    " \n",
    "# execute the command\n",
    " New-DbaAvailabilityGroup @params\n",
    " ````\n",
    " \n",
    "There are many options that you can use here. Read the docs or get our book [beard.media\\book]([beard.media\\book)\n",
    "\n",
    "Lets create an availability group to use with this notebook\n",
    "\n",
    "First we shall create a master key on each instance"
   ]
  },
  {
   "cell_type": "code",
   "execution_count": 40,
   "metadata": {},
   "outputs": [
    {
     "name": "stdout",
     "output_type": "stream",
     "text": [
      "\n",
      "ComputerName        : localhost\n",
      "InstanceName        : MSSQLSERVER\n",
      "SqlInstance         : da750b72a82d\n",
      "Database            : master\n",
      "CreateDate          : 10/03/2020 00:38:29\n",
      "DateLastModified    : 10/03/2020 00:38:29\n",
      "IsEncryptedByServer : True\n",
      "\n",
      "ComputerName        : localhost\n",
      "InstanceName        : MSSQLSERVER\n",
      "SqlInstance         : c134b2316f63\n",
      "Database            : master\n",
      "CreateDate          : 10/03/2020 00:38:29\n",
      "DateLastModified    : 10/03/2020 00:38:29\n",
      "IsEncryptedByServer : True\n",
      "\n",
      "\n"
     ]
    }
   ],
   "source": [
    "New-DbaDbMasterKey -SqlInstance $SQL1 -Credential $SqlCredential -Confirm:$false\n",
    "New-DbaDbMasterKey -SqlInstance $SQL2 -Credential $SqlCredential -Confirm:$false"
   ]
  },
  {
   "cell_type": "markdown",
   "metadata": {},
   "source": [
    "# Certificate\n",
    "\n",
    "Next we will create a certificate for the endpoints on SQL1, back it up and restore it on SQL2. You can do this for any certificate that you require by the way :-)"
   ]
  },
  {
   "cell_type": "code",
   "execution_count": 41,
   "metadata": {},
   "outputs": [
    {
     "name": "stdout",
     "output_type": "stream",
     "text": [
      "\n",
      "ComputerName                 : localhost\n",
      "InstanceName                 : MSSQLSERVER\n",
      "SqlInstance                  : da750b72a82d\n",
      "Database                     : master\n",
      "Name                         : hadr_cert\n",
      "Subject                      : hadr_cert\n",
      "StartDate                    : 10/03/2020 00:00:00\n",
      "ActiveForServiceBrokerDialog : False\n",
      "ExpirationDate               : 10/03/2025 00:00:00\n",
      "Issuer                       : hadr_cert\n",
      "LastBackupDate               : 01/01/0001 00:00:00\n",
      "Owner                        : dbo\n",
      "PrivateKeyEncryptionType     : MasterKey\n",
      "Serial                       : 2e 64 3e 40 33 0c 7a 23\n",
      "\n",
      "Certificate  : hadr_cert\n",
      "ComputerName : localhost\n",
      "Database     : master\n",
      "InstanceName : MSSQLSERVER\n",
      "Key          : /var/opt/mssql/backups/\\hadr_cert.pvk\n",
      "Path         : /var/opt/mssql/backups/\\hadr_cert.cer\n",
      "SqlInstance  : da750b72a82d\n",
      "Status       : Success\n",
      "\n",
      "\n"
     ]
    }
   ],
   "source": [
    "New-DbaDbCertificate -SqlInstance $sql1 -Name hadr_cert -Subject hadr_cert \n",
    "\n",
    "$EncryptionPassword = ConvertTo-SecureString -AsPlainText \"Password4567!!\" -force\n",
    "Backup-DbaDbCertificate -SqlInstance $SQL1 -Suffix $null -Certificate hadr_cert -Path '/var/opt/mssql/backups/' -EncryptionPassword $EncryptionPassword \n"
   ]
  },
  {
   "cell_type": "markdown",
   "metadata": {},
   "source": [
    "Now we will use `Get-DbaFile` to ge the certificate path and then restore the certificate to SQL2\n",
    "This will prompt you to ask for input. If you did not wnat this, you can use `-Force` I am also showing verbose output here. All dbatools commands can output verbose information if you use the `-Verbose` switch"
   ]
  },
  {
   "cell_type": "code",
   "execution_count": 42,
   "metadata": {},
   "outputs": [
    {
     "name": "stdout",
     "output_type": "stream",
     "text": [
      "\u001b[93mVERBOSE: [09:07:26][Restore-DbaDbCertificate] Processing /var/opt/mssql/backups/\\hadr_cert.cer\u001b[0m\n",
      "\n",
      "\u001b[95mConfirm\u001b[0m\n",
      "Are you sure you want to perform this action?\n",
      "Performing the operation \"Importing Certificate\" on target \"hadr_cert on localhost,15593\".\n",
      "\u001b[93m[Y] Yes  \u001b[0m\u001b[95m[A] Yes to All  \u001b[0m\u001b[95m[N] No  \u001b[0m\u001b[95m[L] No to All  \u001b[0m\u001b[95m[S] Suspend  \u001b[0m[?] Help(default is 'Y')"
     ]
    },
    {
     "name": "stdin",
     "output_type": "stream",
     "text": [
      "Select:  y\n"
     ]
    },
    {
     "name": "stdout",
     "output_type": "stream",
     "text": [
      "\u001b[93mVERBOSE: [09:07:28][Restore-DbaDbCertificate] Creating Certificate: hadr_cert\u001b[0m\n",
      "\u001b[93mVERBOSE: [09:07:28][Restore-DbaDbCertificate] Full certificate path: \\var\\opt\\mssql\\backups\\\\hadr_cert.cer\u001b[0m\n",
      "\u001b[93mVERBOSE: [09:07:28][Restore-DbaDbCertificate] Private key: \\var\\opt\\mssql\\backups\\\\hadr_cert.pvk\u001b[0m\n",
      "\n",
      "ComputerName                 : localhost\n",
      "InstanceName                 : MSSQLSERVER\n",
      "SqlInstance                  : c134b2316f63\n",
      "Database                     : master\n",
      "Name                         : hadr_cert\n",
      "Subject                      : hadr_cert\n",
      "StartDate                    : 10/03/2020 00:00:00\n",
      "ActiveForServiceBrokerDialog : True\n",
      "ExpirationDate               : 10/03/2025 00:00:00\n",
      "Issuer                       : hadr_cert\n",
      "LastBackupDate               : 01/01/0001 00:00:00\n",
      "Owner                        : dbo\n",
      "PrivateKeyEncryptionType     : MasterKey\n",
      "Serial                       : 2e 64 3e 40 33 0c 7a 23\n",
      "\n",
      "\n"
     ]
    }
   ],
   "source": [
    "$Certificate = (Get-DbaFile -SqlInstance $sql2 -Path '/var/opt/mssql/backups/' -FileType cer).FileName\n",
    "Restore-DbaDbCertificate -SqlInstance $SQL2 -Path $Certificate -DecryptionPassword $EncryptionPassword  -Verbose\n"
   ]
  },
  {
   "cell_type": "markdown",
   "metadata": {},
   "source": [
    "# Endpoints\n",
    "Now that we have the certificates on each instance, we can create the endpoints using the certificate and start them"
   ]
  },
  {
   "cell_type": "code",
   "execution_count": 44,
   "metadata": {},
   "outputs": [
    {
     "name": "stdout",
     "output_type": "stream",
     "text": [
      "\n",
      "ComputerName    : localhost\n",
      "InstanceName    : MSSQLSERVER\n",
      "SqlInstance     : da750b72a82d\n",
      "ID              : 65536\n",
      "Name            : hadr_endpoint\n",
      "Port            : 5022\n",
      "EndpointState   : Stopped\n",
      "EndpointType    : DatabaseMirroring\n",
      "Owner           : sqladmin\n",
      "IsAdminEndpoint : False\n",
      "Fqdn            : TCP://BEARDXPS:5022\n",
      "IsSystemObject  : False\n",
      "\n",
      "ComputerName    : localhost\n",
      "InstanceName    : MSSQLSERVER\n",
      "SqlInstance     : c134b2316f63\n",
      "ID              : 65536\n",
      "Name            : hadr_endpoint\n",
      "Port            : 5023\n",
      "EndpointState   : Stopped\n",
      "EndpointType    : DatabaseMirroring\n",
      "Owner           : sqladmin\n",
      "IsAdminEndpoint : False\n",
      "Fqdn            : TCP://BEARDXPS:5023\n",
      "IsSystemObject  : False\n",
      "\n",
      "ComputerName    : localhost\n",
      "InstanceName    : MSSQLSERVER\n",
      "SqlInstance     : da750b72a82d\n",
      "ID              : 65536\n",
      "Name            : hadr_endpoint\n",
      "Port            : 5022\n",
      "EndpointState   : Started\n",
      "EndpointType    : DatabaseMirroring\n",
      "Owner           : sqladmin\n",
      "IsAdminEndpoint : False\n",
      "Fqdn            : TCP://BEARDXPS:5022\n",
      "IsSystemObject  : False\n",
      "\n",
      "ComputerName    : localhost\n",
      "InstanceName    : MSSQLSERVER\n",
      "SqlInstance     : c134b2316f63\n",
      "ID              : 65536\n",
      "Name            : hadr_endpoint\n",
      "Port            : 5023\n",
      "EndpointState   : Started\n",
      "EndpointType    : DatabaseMirroring\n",
      "Owner           : sqladmin\n",
      "IsAdminEndpoint : False\n",
      "Fqdn            : TCP://BEARDXPS:5023\n",
      "IsSystemObject  : False\n",
      "\n",
      "\n"
     ]
    }
   ],
   "source": [
    "New-DbaEndpoint -SqlInstance $sql1 -Name hadr_endpoint -Port 5022 -Certificate hadr_cert \n",
    "New-DbaEndpoint -SqlInstance $sql2 -Name hadr_endpoint -Port 5023 -Certificate hadr_cert\n",
    "\n",
    "Start-DbaEndpoint -SqlInstance $SQL1 -EndPoint hadr_endpoint\n",
    "Start-DbaEndpoint -SqlInstance $SQL2 -EndPoint hadr_endpoint"
   ]
  },
  {
   "cell_type": "markdown",
   "metadata": {},
   "source": [
    "# Create the Availability Group\n",
    "\n",
    "we have to use T-SQL to get the right information only because we are using containers"
   ]
  },
  {
   "cell_type": "code",
   "execution_count": 45,
   "metadata": {
    "jupyter": {
     "source_hidden": true
    }
   },
   "outputs": [],
   "source": [
    "\n",
    "$query = @\"\n",
    "CREATE AVAILABILITY GROUP [TheBeard_AG]\n",
    "    WITH (CLUSTER_TYPE = NONE)\n",
    "    FOR REPLICA ON\n",
    "        N'$($sql1.ComputerNamePhysicalNetBIOS)' WITH (\n",
    "            ENDPOINT_URL = N'tcp://dbatools_SQL2019_1:5022',\n",
    "\t\t    AVAILABILITY_MODE = ASYNCHRONOUS_COMMIT,\n",
    "\t\t    FAILOVER_MODE = MANUAL,\n",
    "\t\t    SEEDING_MODE = AUTOMATIC,\n",
    "                    SECONDARY_ROLE (ALLOW_CONNECTIONS = ALL)\n",
    "\t\t    ),\n",
    "        N'$($sql2.ComputerNamePhysicalNetBIOS)' WITH ( \n",
    "\t\t    ENDPOINT_URL = N'tcp://dbatools_SQL2019-1_1:5023', \n",
    "\t\t    AVAILABILITY_MODE = ASYNCHRONOUS_COMMIT,\n",
    "\t\t    FAILOVER_MODE = MANUAL,\n",
    "\t\t    SEEDING_MODE = AUTOMATIC,\n",
    "\t\t    SECONDARY_ROLE (ALLOW_CONNECTIONS = ALL)\n",
    "\t\t    );\n",
    "\t\t\n",
    "ALTER AVAILABILITY GROUP [TheBeard_AG] GRANT CREATE ANY DATABASE;\n",
    "\"@\n",
    "\n",
    "Invoke-DbaQuery -SqlInstance $sql1 -Query $query\n",
    "\n",
    "$query = @\"\n",
    "ALTER AVAILABILITY GROUP [TheBeard_AG] JOIN WITH (CLUSTER_TYPE = NONE);\n",
    "\t\t \n",
    "ALTER AVAILABILITY GROUP [TheBeard_AG] GRANT CREATE ANY DATABASE;\n",
    "\"@\n",
    "\n",
    "Invoke-DbaQuery -SqlInstance $sql2 -Query $query\n"
   ]
  },
  {
   "cell_type": "markdown",
   "metadata": {},
   "source": [
    "we can check that the availability groups on an instance using `Get-DbaAvailabilityGroup`"
   ]
  },
  {
   "cell_type": "code",
   "execution_count": 46,
   "metadata": {},
   "outputs": [
    {
     "name": "stdout",
     "output_type": "stream",
     "text": [
      "\n",
      "ComputerName               : localhost\n",
      "InstanceName               : MSSQLSERVER\n",
      "SqlInstance                : da750b72a82d\n",
      "LocalReplicaRole           : Primary\n",
      "AvailabilityGroup          : TheBeard_AG\n",
      "PrimaryReplica             : da750b72a82d\n",
      "ClusterType                : None\n",
      "DtcSupportEnabled          : False\n",
      "AutomatedBackupPreference  : Secondary\n",
      "AvailabilityReplicas       : {c134b2316f63, da750b72a82d}\n",
      "AvailabilityDatabases      : {}\n",
      "AvailabilityGroupListeners : {}\n",
      "\n",
      "\n"
     ]
    }
   ],
   "source": [
    "Get-DbaAvailabilityGroup -SqlInstance $sql1 "
   ]
  },
  {
   "cell_type": "markdown",
   "metadata": {},
   "source": [
    "Excellent, we have an availablity group - Lets check the replicas"
   ]
  },
  {
   "cell_type": "code",
   "execution_count": 15,
   "metadata": {},
   "outputs": [
    {
     "name": "stdout",
     "output_type": "stream",
     "text": [
      "\n",
      "ComputerName               : localhost\n",
      "InstanceName               : MSSQLSERVER\n",
      "SqlInstance                : ce9a5ca3600e\n",
      "AvailabilityGroup          : TheBeard_AG\n",
      "Name                       : 8d2d018abf91\n",
      "Role                       : Secondary\n",
      "ConnectionState            : Connected\n",
      "RollupSynchronizationState : NotSynchronizing\n",
      "AvailabilityMode           : AsynchronousCommit\n",
      "BackupPriority             : 50\n",
      "EndpointUrl                : tcp://dbatools_SQL2019-1_1:5023\n",
      "SessionTimeout             : 10\n",
      "FailoverMode               : Manual\n",
      "ReadonlyRoutingList        : {}\n",
      "\n",
      "ComputerName               : localhost\n",
      "InstanceName               : MSSQLSERVER\n",
      "SqlInstance                : ce9a5ca3600e\n",
      "AvailabilityGroup          : TheBeard_AG\n",
      "Name                       : ce9a5ca3600e\n",
      "Role                       : Primary\n",
      "ConnectionState            : Connected\n",
      "RollupSynchronizationState : NotSynchronizing\n",
      "AvailabilityMode           : AsynchronousCommit\n",
      "BackupPriority             : 50\n",
      "EndpointUrl                : tcp://dbatools_SQL2019_1:5022\n",
      "SessionTimeout             : 10\n",
      "FailoverMode               : Manual\n",
      "ReadonlyRoutingList        : {}\n",
      "\n",
      "\n"
     ]
    }
   ],
   "source": [
    "Get-DbaAgReplica -SqlInstance $sql1"
   ]
  },
  {
   "cell_type": "markdown",
   "metadata": {},
   "source": [
    "We have two replicas - Right now they are not synchronising because there are no databases, You can use this command to see the rol up status for the replicas\n",
    "\n",
    "Let's check the databases"
   ]
  },
  {
   "cell_type": "code",
   "execution_count": 47,
   "metadata": {},
   "outputs": [],
   "source": [
    "Get-DbaAgDatabase -SqlInstance $SQL1"
   ]
  },
  {
   "cell_type": "markdown",
   "metadata": {},
   "source": [
    "There are no databases - Lets add the databases"
   ]
  },
  {
   "cell_type": "markdown",
   "metadata": {},
   "source": [
    "# Recovery Mode\n",
    "\n",
    "We need ot set the recovery mode of the databases to full"
   ]
  },
  {
   "cell_type": "code",
   "execution_count": 48,
   "metadata": {},
   "outputs": [
    {
     "name": "stdout",
     "output_type": "stream",
     "text": [
      "\n",
      "ComputerName   : localhost\n",
      "InstanceName   : MSSQLSERVER\n",
      "SqlInstance    : da750b72a82d\n",
      "Name           : AdventureWorks2017\n",
      "Status         : Normal\n",
      "IsAccessible   : True\n",
      "RecoveryModel  : Full\n",
      "LastFullBackup : 21/12/2019 14:42:01\n",
      "LastDiffBackup : 21/12/2019 14:42:00\n",
      "LastLogBackup  : 01/01/0001 00:00:00\n",
      "\n",
      "ComputerName   : localhost\n",
      "InstanceName   : MSSQLSERVER\n",
      "SqlInstance    : da750b72a82d\n",
      "Name           : Northwind\n",
      "Status         : Normal\n",
      "IsAccessible   : True\n",
      "RecoveryModel  : Full\n",
      "LastFullBackup : 21/12/2019 14:42:01\n",
      "LastDiffBackup : 21/12/2019 14:42:00\n",
      "LastLogBackup  : 01/01/0001 00:00:00\n",
      "\n",
      "ComputerName   : localhost\n",
      "InstanceName   : MSSQLSERVER\n",
      "SqlInstance    : da750b72a82d\n",
      "Name           : pubs\n",
      "Status         : Normal\n",
      "IsAccessible   : True\n",
      "RecoveryModel  : Full\n",
      "LastFullBackup : 21/12/2019 14:42:02\n",
      "LastDiffBackup : 21/12/2019 14:42:00\n",
      "LastLogBackup  : 01/01/0001 00:00:00\n",
      "\n",
      "\n"
     ]
    }
   ],
   "source": [
    "Get-DbaDatabase -SqlInstance $SQL1 -ExcludeSystem | Set-DbaDbRecoveryModel -RecoveryModel Full -Confirm:$false"
   ]
  },
  {
   "cell_type": "markdown",
   "metadata": {},
   "source": [
    "# Backup\n",
    "\n",
    "Of course, having set the recovery model to full we need to back up the databases otherwise they are in PSUDOSIMPLE mode. You can see this. If we check the recovery model, it will show full"
   ]
  },
  {
   "cell_type": "code",
   "execution_count": 21,
   "metadata": {},
   "outputs": [
    {
     "name": "stdout",
     "output_type": "stream",
     "text": [
      "\n",
      "ComputerName   : localhost\n",
      "InstanceName   : MSSQLSERVER\n",
      "SqlInstance    : ce9a5ca3600e\n",
      "Name           : AdventureWorks2017\n",
      "Status         : Normal\n",
      "IsAccessible   : True\n",
      "RecoveryModel  : Full\n",
      "LastFullBackup : 21/12/2019 14:42:01\n",
      "LastDiffBackup : 21/12/2019 14:42:00\n",
      "LastLogBackup  : 01/01/0001 00:00:00\n",
      "\n",
      "ComputerName   : localhost\n",
      "InstanceName   : MSSQLSERVER\n",
      "SqlInstance    : ce9a5ca3600e\n",
      "Name           : Northwind\n",
      "Status         : Normal\n",
      "IsAccessible   : True\n",
      "RecoveryModel  : Full\n",
      "LastFullBackup : 21/12/2019 14:42:01\n",
      "LastDiffBackup : 21/12/2019 14:42:00\n",
      "LastLogBackup  : 01/01/0001 00:00:00\n",
      "\n",
      "ComputerName   : localhost\n",
      "InstanceName   : MSSQLSERVER\n",
      "SqlInstance    : ce9a5ca3600e\n",
      "Name           : pubs\n",
      "Status         : Normal\n",
      "IsAccessible   : True\n",
      "RecoveryModel  : Full\n",
      "LastFullBackup : 21/12/2019 14:42:02\n",
      "LastDiffBackup : 21/12/2019 14:42:00\n",
      "LastLogBackup  : 01/01/0001 00:00:00\n",
      "\n",
      "\n"
     ]
    }
   ],
   "source": [
    "Get-DbaDbRecoveryModel -SqlInstance $sql1 -Database AdventureWorks2017, Northwind, pubs"
   ]
  },
  {
   "cell_type": "markdown",
   "metadata": {},
   "source": [
    "but if we use `Test-DbaDbRecoveryModel` you can see that the *Actual* recovery model is SIMPLE"
   ]
  },
  {
   "cell_type": "code",
   "execution_count": 49,
   "metadata": {},
   "outputs": [
    {
     "name": "stdout",
     "output_type": "stream",
     "text": [
      "\n",
      "ComputerName            : da750b72a82d\n",
      "InstanceName            : MSSQLSERVER\n",
      "SqlInstance             : da750b72a82d\n",
      "Database                : AdventureWorks2017\n",
      "ConfiguredRecoveryModel : FULL\n",
      "ActualRecoveryModel     : SIMPLE\n",
      "\n",
      "ComputerName            : da750b72a82d\n",
      "InstanceName            : MSSQLSERVER\n",
      "SqlInstance             : da750b72a82d\n",
      "Database                : Northwind\n",
      "ConfiguredRecoveryModel : FULL\n",
      "ActualRecoveryModel     : SIMPLE\n",
      "\n",
      "ComputerName            : da750b72a82d\n",
      "InstanceName            : MSSQLSERVER\n",
      "SqlInstance             : da750b72a82d\n",
      "Database                : pubs\n",
      "ConfiguredRecoveryModel : FULL\n",
      "ActualRecoveryModel     : SIMPLE\n",
      "\n",
      "\n"
     ]
    }
   ],
   "source": [
    "Test-DbaDbRecoveryModel -SqlInstance $sql1 -Database AdventureWorks2017, Northwind, pubs"
   ]
  },
  {
   "cell_type": "markdown",
   "metadata": {},
   "source": [
    "If we backup the databases (like we did in the BackupsandRestores notebook"
   ]
  },
  {
   "cell_type": "code",
   "execution_count": 50,
   "metadata": {},
   "outputs": [
    {
     "data": {
      "text/plain": []
     },
     "metadata": {},
     "output_type": "display_data"
    },
    {
     "name": "stdout",
     "output_type": "stream",
     "text": [
      "\n",
      "SqlInstance  Database           Type TotalSize DeviceType Start                   Duration End\n",
      "-----------  --------           ---- --------- ---------- -----                   -------- ---\n",
      "da750b72a82d AdventureWorks2017 Full 207.09 MB Disk       2020-03-10 00:39:36.000 00:00:02 2020-03…\n",
      "da750b72a82d Northwind          Full 6.71 MB   Disk       2020-03-10 00:39:39.000 00:00:00 2020-03…\n",
      "da750b72a82d pubs               Full 4.52 MB   Disk       2020-03-10 00:39:40.000 00:00:00 2020-03…\n",
      "da750b72a82d AdventureWorks2017 Log  84.00 KB  Disk       2020-03-10 00:39:40.000 00:00:00 2020-03…\n",
      "da750b72a82d Northwind          Log  80.00 KB  Disk       2020-03-10 00:39:41.000 00:00:00 2020-03…\n",
      "da750b72a82d pubs               Log  80.00 KB  Disk       2020-03-10 00:39:41.000 00:00:00 2020-03…\n",
      "\n"
     ]
    }
   ],
   "source": [
    "Backup-DbaDatabase -SqlInstance $SQL1 -Path /var/opt/mssql/backups/SQL1 -Database  AdventureWorks2017, Northwind, pubs -Type Full -IgnoreFileChecks\n",
    "Backup-DbaDatabase -SqlInstance $SQL1 -Path /var/opt/mssql/backups/SQL1 -Database  AdventureWorks2017, Northwind, pubs -Type Log -IgnoreFileChecks"
   ]
  },
  {
   "cell_type": "markdown",
   "metadata": {},
   "source": [
    "and test our recovery model again"
   ]
  },
  {
   "cell_type": "code",
   "execution_count": 51,
   "metadata": {},
   "outputs": [
    {
     "name": "stdout",
     "output_type": "stream",
     "text": [
      "\n",
      "ComputerName            : da750b72a82d\n",
      "InstanceName            : MSSQLSERVER\n",
      "SqlInstance             : da750b72a82d\n",
      "Database                : AdventureWorks2017\n",
      "ConfiguredRecoveryModel : FULL\n",
      "ActualRecoveryModel     : FULL\n",
      "\n",
      "ComputerName            : da750b72a82d\n",
      "InstanceName            : MSSQLSERVER\n",
      "SqlInstance             : da750b72a82d\n",
      "Database                : Northwind\n",
      "ConfiguredRecoveryModel : FULL\n",
      "ActualRecoveryModel     : FULL\n",
      "\n",
      "ComputerName            : da750b72a82d\n",
      "InstanceName            : MSSQLSERVER\n",
      "SqlInstance             : da750b72a82d\n",
      "Database                : pubs\n",
      "ConfiguredRecoveryModel : FULL\n",
      "ActualRecoveryModel     : FULL\n",
      "\n",
      "\n"
     ]
    }
   ],
   "source": [
    "Test-DbaDbRecoveryModel -SqlInstance $sql1 -Database AdventureWorks2017, Northwind, pubs"
   ]
  },
  {
   "cell_type": "markdown",
   "metadata": {},
   "source": [
    "All our databases are now in FULL recovery :-)\n",
    "\n",
    "Let's add them to the Availability Group"
   ]
  },
  {
   "cell_type": "code",
   "execution_count": 52,
   "metadata": {},
   "outputs": [
    {
     "name": "stdout",
     "output_type": "stream",
     "text": [
      "\u001b[93mWARNING: [09:08:35][Backup-DbaDatabase] No databases match the request for backups\u001b[0m\n",
      "\n",
      "ComputerName         : localhost\n",
      "InstanceName         : MSSQLSERVER\n",
      "SqlInstance          : da750b72a82d\n",
      "AvailabilityGroup    : TheBeard_AG\n",
      "Replica              : localhost\n",
      "Name                 : AdventureWorks2017\n",
      "SynchronizationState : Synchronized\n",
      "IsFailoverReady      : True\n",
      "IsJoined             : True\n",
      "IsSuspended          : False\n",
      "\n"
     ]
    },
    {
     "data": {
      "text/plain": []
     },
     "metadata": {},
     "output_type": "display_data"
    },
    {
     "name": "stdout",
     "output_type": "stream",
     "text": [
      "ComputerName         : localhost\n",
      "InstanceName         : MSSQLSERVER\n",
      "SqlInstance          : c134b2316f63\n",
      "AvailabilityGroup    : TheBeard_AG\n",
      "Replica              : localhost\n",
      "Name                 : AdventureWorks2017\n",
      "SynchronizationState : Synchronizing\n",
      "IsFailoverReady      : False\n",
      "IsJoined             : True\n",
      "IsSuspended          : False\n",
      "\n",
      "\u001b[93mWARNING: [09:08:38][Backup-DbaDatabase] No databases match the request for backups\u001b[0m\n",
      "ComputerName         : localhost\n",
      "InstanceName         : MSSQLSERVER\n",
      "SqlInstance          : da750b72a82d\n",
      "AvailabilityGroup    : TheBeard_AG\n",
      "Replica              : localhost\n",
      "Name                 : Northwind\n",
      "SynchronizationState : Synchronized\n",
      "IsFailoverReady      : True\n",
      "IsJoined             : True\n",
      "IsSuspended          : False\n",
      "\n",
      "\u001b[93mWARNING: [09:09:06][Add-DbaAgDatabase] Could not join  to localhost,15593\u001b[0m\n",
      "\u001b[93mWARNING: [09:09:06][Backup-DbaDatabase] No databases match the request for backups\u001b[0m\n",
      "ComputerName         : localhost\n",
      "InstanceName         : MSSQLSERVER\n",
      "SqlInstance          : da750b72a82d\n",
      "AvailabilityGroup    : TheBeard_AG\n",
      "Replica              : localhost\n",
      "Name                 : pubs\n",
      "SynchronizationState : Synchronized\n",
      "IsFailoverReady      : True\n",
      "IsJoined             : True\n",
      "IsSuspended          : False\n",
      "\n",
      "\u001b[93mWARNING: [09:09:33][Add-DbaAgDatabase] Could not join  to localhost,15593\u001b[0m\n",
      "\n"
     ]
    }
   ],
   "source": [
    "Add-DbaAgDatabase -SqlInstance $sql1 -AvailabilityGroup TheBeard_AG -Database AdventureWorks2017, Northwind, pubs -Secondary $sql2 -SeedingMode Automatic"
   ]
  },
  {
   "cell_type": "markdown",
   "metadata": {},
   "source": [
    "Let's have a look at them\n"
   ]
  },
  {
   "cell_type": "code",
   "execution_count": 53,
   "metadata": {},
   "outputs": [
    {
     "name": "stdout",
     "output_type": "stream",
     "text": [
      "\n",
      "ComputerName         : localhost\n",
      "InstanceName         : MSSQLSERVER\n",
      "SqlInstance          : da750b72a82d\n",
      "AvailabilityGroup    : TheBeard_AG\n",
      "Replica              : localhost\n",
      "Name                 : AdventureWorks2017\n",
      "SynchronizationState : Synchronized\n",
      "IsFailoverReady      : True\n",
      "IsJoined             : True\n",
      "IsSuspended          : False\n",
      "\n",
      "ComputerName         : localhost\n",
      "InstanceName         : MSSQLSERVER\n",
      "SqlInstance          : da750b72a82d\n",
      "AvailabilityGroup    : TheBeard_AG\n",
      "Replica              : localhost\n",
      "Name                 : Northwind\n",
      "SynchronizationState : Synchronized\n",
      "IsFailoverReady      : True\n",
      "IsJoined             : True\n",
      "IsSuspended          : False\n",
      "\n",
      "ComputerName         : localhost\n",
      "InstanceName         : MSSQLSERVER\n",
      "SqlInstance          : da750b72a82d\n",
      "AvailabilityGroup    : TheBeard_AG\n",
      "Replica              : localhost\n",
      "Name                 : pubs\n",
      "SynchronizationState : Synchronized\n",
      "IsFailoverReady      : True\n",
      "IsJoined             : True\n",
      "IsSuspended          : False\n",
      "\n",
      "\n"
     ]
    }
   ],
   "source": [
    "Get-DbaAgDatabase -SqlInstance $SQL1 "
   ]
  },
  {
   "cell_type": "markdown",
   "metadata": {},
   "source": [
    "You can look in SSMS if you like :-)\n",
    "\n",
    "![AG](.\\images\\ag.png )"
   ]
  },
  {
   "cell_type": "markdown",
   "metadata": {},
   "source": [
    "## Suspending and resuming data movement\n",
    "\n",
    "You can use dbatools to suspend and resume data movement for your Availability Group databases. The code below will prompt you to confirm that you wish to suspend them."
   ]
  },
  {
   "cell_type": "code",
   "execution_count": 54,
   "metadata": {},
   "outputs": [
    {
     "name": "stdout",
     "output_type": "stream",
     "text": [
      "\n",
      "\u001b[95mConfirm\u001b[0m\n",
      "Are you sure you want to perform this action?\n",
      "Performing the operation \"Seting availability group  to \" on target \"\".\n",
      "\u001b[93m[Y] Yes  \u001b[0m\u001b[95m[A] Yes to All  \u001b[0m\u001b[95m[N] No  \u001b[0m\u001b[95m[L] No to All  \u001b[0m\u001b[95m[S] Suspend  \u001b[0m[?] Help(default is 'Y')"
     ]
    },
    {
     "name": "stdin",
     "output_type": "stream",
     "text": [
      "Select:  y\n"
     ]
    },
    {
     "name": "stdout",
     "output_type": "stream",
     "text": [
      "\n",
      "ComputerName         : localhost\n",
      "InstanceName         : MSSQLSERVER\n",
      "SqlInstance          : da750b72a82d\n",
      "AvailabilityGroup    : TheBeard_AG\n",
      "Replica              : localhost\n",
      "Name                 : AdventureWorks2017\n",
      "SynchronizationState : NotSynchronizing\n",
      "IsFailoverReady      : True\n",
      "IsJoined             : True\n",
      "IsSuspended          : True\n",
      "\n",
      "\n",
      "\u001b[95mConfirm\u001b[0m\n",
      "Are you sure you want to perform this action?\n",
      "Performing the operation \"Seting availability group  to \" on target \"\".\n",
      "\u001b[93m[Y] Yes  \u001b[0m\u001b[95m[A] Yes to All  \u001b[0m\u001b[95m[N] No  \u001b[0m\u001b[95m[L] No to All  \u001b[0m\u001b[95m[S] Suspend  \u001b[0m[?] Help(default is 'Y')"
     ]
    },
    {
     "name": "stdin",
     "output_type": "stream",
     "text": [
      "Select:  y\n"
     ]
    },
    {
     "name": "stdout",
     "output_type": "stream",
     "text": [
      "ComputerName         : localhost\n",
      "InstanceName         : MSSQLSERVER\n",
      "SqlInstance          : da750b72a82d\n",
      "AvailabilityGroup    : TheBeard_AG\n",
      "Replica              : localhost\n",
      "Name                 : Northwind\n",
      "SynchronizationState : NotSynchronizing\n",
      "IsFailoverReady      : True\n",
      "IsJoined             : True\n",
      "IsSuspended          : True\n",
      "\n",
      "\n",
      "\u001b[95mConfirm\u001b[0m\n",
      "Are you sure you want to perform this action?\n",
      "Performing the operation \"Seting availability group  to \" on target \"\".\n",
      "\u001b[93m[Y] Yes  \u001b[0m\u001b[95m[A] Yes to All  \u001b[0m\u001b[95m[N] No  \u001b[0m\u001b[95m[L] No to All  \u001b[0m\u001b[95m[S] Suspend  \u001b[0m[?] Help(default is 'Y')"
     ]
    },
    {
     "name": "stdin",
     "output_type": "stream",
     "text": [
      "Select:  y\n"
     ]
    },
    {
     "name": "stdout",
     "output_type": "stream",
     "text": [
      "ComputerName         : localhost\n",
      "InstanceName         : MSSQLSERVER\n",
      "SqlInstance          : da750b72a82d\n",
      "AvailabilityGroup    : TheBeard_AG\n",
      "Replica              : localhost\n",
      "Name                 : pubs\n",
      "SynchronizationState : NotSynchronizing\n",
      "IsFailoverReady      : True\n",
      "IsJoined             : True\n",
      "IsSuspended          : True\n",
      "\n",
      "\n"
     ]
    }
   ],
   "source": [
    "Get-DbaAgDatabase -SqlInstance $sql1  | Suspend-DbaAgDbDataMovement"
   ]
  },
  {
   "cell_type": "markdown",
   "metadata": {},
   "source": [
    "You can check that they are suspended using `Get-DbaAgDatabase` You will see that the `SynchronizationState` has changed to not synchronising and the `IsSuspended` property is set to true"
   ]
  },
  {
   "cell_type": "code",
   "execution_count": 55,
   "metadata": {},
   "outputs": [
    {
     "name": "stdout",
     "output_type": "stream",
     "text": [
      "\n",
      "ComputerName         : localhost\n",
      "InstanceName         : MSSQLSERVER\n",
      "SqlInstance          : da750b72a82d\n",
      "AvailabilityGroup    : TheBeard_AG\n",
      "Replica              : localhost\n",
      "Name                 : AdventureWorks2017\n",
      "SynchronizationState : NotSynchronizing\n",
      "IsFailoverReady      : True\n",
      "IsJoined             : True\n",
      "IsSuspended          : True\n",
      "\n",
      "ComputerName         : localhost\n",
      "InstanceName         : MSSQLSERVER\n",
      "SqlInstance          : da750b72a82d\n",
      "AvailabilityGroup    : TheBeard_AG\n",
      "Replica              : localhost\n",
      "Name                 : Northwind\n",
      "SynchronizationState : NotSynchronizing\n",
      "IsFailoverReady      : True\n",
      "IsJoined             : True\n",
      "IsSuspended          : True\n",
      "\n",
      "ComputerName         : localhost\n",
      "InstanceName         : MSSQLSERVER\n",
      "SqlInstance          : da750b72a82d\n",
      "AvailabilityGroup    : TheBeard_AG\n",
      "Replica              : localhost\n",
      "Name                 : pubs\n",
      "SynchronizationState : NotSynchronizing\n",
      "IsFailoverReady      : True\n",
      "IsJoined             : True\n",
      "IsSuspended          : True\n",
      "\n",
      "\n"
     ]
    }
   ],
   "source": [
    "Get-DbaAgDatabase -SqlInstance $sql1"
   ]
  },
  {
   "cell_type": "markdown",
   "metadata": {},
   "source": [
    "If you want to see if any databases in your Availability Group are not synchronised you can use the code below (if you are looking on an asynchronous replica then you would change Synchronized to Synchronizing."
   ]
  },
  {
   "cell_type": "code",
   "execution_count": 58,
   "metadata": {},
   "outputs": [
    {
     "name": "stdout",
     "output_type": "stream",
     "text": [
      "\n",
      "ComputerName InstanceName SqlInstance  AvailabilityGroup Replica   Name               Synchronizati\n",
      "                                                                                            onState\n",
      "------------ ------------ -----------  ----------------- -------   ----               -------------\n",
      "localhost    MSSQLSERVER  da750b72a82d TheBeard_AG       localhost AdventureWorks2017 …ynchronizing\n",
      "localhost    MSSQLSERVER  da750b72a82d TheBeard_AG       localhost Northwind          …ynchronizing\n",
      "localhost    MSSQLSERVER  da750b72a82d TheBeard_AG       localhost pubs               …ynchronizing\n",
      "\n"
     ]
    }
   ],
   "source": [
    "Get-DbaAgDatabase -SqlInstance $SQL1 | Where SynchronizationState -ne 'Synchronized' | Format-Table"
   ]
  },
  {
   "cell_type": "markdown",
   "metadata": {},
   "source": [
    "You can add the capability to resume data movement using dbatools as well with `Resume-DbaAgDbDataMovement` this time we will use `-Confirm:$false` so there are no prompts"
   ]
  },
  {
   "cell_type": "code",
   "execution_count": 59,
   "metadata": {},
   "outputs": [
    {
     "name": "stdout",
     "output_type": "stream",
     "text": [
      "\n",
      "ComputerName         : localhost\n",
      "InstanceName         : MSSQLSERVER\n",
      "SqlInstance          : da750b72a82d\n",
      "AvailabilityGroup    : TheBeard_AG\n",
      "Replica              : localhost\n",
      "Name                 : AdventureWorks2017\n",
      "SynchronizationState : Synchronized\n",
      "IsFailoverReady      : True\n",
      "IsJoined             : True\n",
      "IsSuspended          : False\n",
      "\n",
      "ComputerName         : localhost\n",
      "InstanceName         : MSSQLSERVER\n",
      "SqlInstance          : da750b72a82d\n",
      "AvailabilityGroup    : TheBeard_AG\n",
      "Replica              : localhost\n",
      "Name                 : Northwind\n",
      "SynchronizationState : Synchronized\n",
      "IsFailoverReady      : True\n",
      "IsJoined             : True\n",
      "IsSuspended          : False\n",
      "\n",
      "ComputerName         : localhost\n",
      "InstanceName         : MSSQLSERVER\n",
      "SqlInstance          : da750b72a82d\n",
      "AvailabilityGroup    : TheBeard_AG\n",
      "Replica              : localhost\n",
      "Name                 : pubs\n",
      "SynchronizationState : Synchronized\n",
      "IsFailoverReady      : True\n",
      "IsJoined             : True\n",
      "IsSuspended          : False\n",
      "\n",
      "\n"
     ]
    }
   ],
   "source": [
    "Get-DbaAgDatabase -SqlInstance $SQL1| Resume-DbaAgDbDataMovement -Confirm:$false"
   ]
  },
  {
   "cell_type": "markdown",
   "metadata": {},
   "source": [
    "## Removing a database from an Availability Group\n",
    "\n",
    "You can also remove a database from the availablity group. This code will prompt you to confirm the changing action which is usual dbatools behaviour\n"
   ]
  },
  {
   "cell_type": "code",
   "execution_count": 60,
   "metadata": {},
   "outputs": [
    {
     "name": "stdout",
     "output_type": "stream",
     "text": [
      "\n",
      "\u001b[95mConfirm\u001b[0m\n",
      "Are you sure you want to perform this action?\n",
      "Performing the operation \"Removing availability group database [pubs]\" on target \"localhost,15592\".\n",
      "\u001b[93m[Y] Yes  \u001b[0m\u001b[95m[A] Yes to All  \u001b[0m\u001b[95m[N] No  \u001b[0m\u001b[95m[L] No to All  \u001b[0m\u001b[95m[S] Suspend  \u001b[0m[?] Help(default is 'Y')"
     ]
    },
    {
     "name": "stdin",
     "output_type": "stream",
     "text": [
      "Select:  y\n"
     ]
    },
    {
     "name": "stdout",
     "output_type": "stream",
     "text": [
      "\n",
      "ComputerName      : localhost\n",
      "InstanceName      : MSSQLSERVER\n",
      "SqlInstance       : da750b72a82d\n",
      "AvailabilityGroup : TheBeard_AG\n",
      "Database          : pubs\n",
      "Status            : Removed\n",
      "\n",
      "\n"
     ]
    }
   ],
   "source": [
    "Remove-DbaAgDatabase -SqlInstance $SQL1 -AvailabilityGroup TheBeard_AG -Database pubs"
   ]
  },
  {
   "cell_type": "markdown",
   "metadata": {},
   "source": [
    "We can check the user databases on the instances with `Get-DbaDatabase`"
   ]
  },
  {
   "cell_type": "code",
   "execution_count": 64,
   "metadata": {},
   "outputs": [
    {
     "name": "stdout",
     "output_type": "stream",
     "text": [
      "\n",
      "ComputerName InstanceName SqlInstance  Name               Status IsAccessible RecoveryModel LogReus\n",
      "                                                                                            eWaitSt\n",
      "                                                                                               atus\n",
      "------------ ------------ -----------  ----               ------ ------------ ------------- -------\n",
      "localhost    MSSQLSERVER  da750b72a82d AdventureWorks2017 Normal         True          Full      13\n",
      "localhost    MSSQLSERVER  da750b72a82d Northwind          Normal         True          Full Nothing\n",
      "localhost    MSSQLSERVER  da750b72a82d pubs               Normal         True          Full      13\n",
      "\n"
     ]
    }
   ],
   "source": [
    "Get-DbaDatabase -SqlInstance $SQL1, $SQL2 -ExcludeSystem | Ft"
   ]
  },
  {
   "cell_type": "markdown",
   "metadata": {},
   "source": [
    "You can see that the pubs database on the secondary is in restoring state.\n",
    "\n",
    "You can also use `Get-DbaDatabase` to see the Availability Group synchronisation state and the Availability Group that it is joined to by getting some of the properties that are not displayed by default"
   ]
  },
  {
   "cell_type": "code",
   "execution_count": 67,
   "metadata": {},
   "outputs": [
    {
     "name": "stdout",
     "output_type": "stream",
     "text": [
      "\n",
      "SqlInstance  Name               AvailabilityDatabaseSynchronizationState AvailabilityGroupName\n",
      "-----------  ----               ---------------------------------------- ---------------------\n",
      "da750b72a82d AdventureWorks2017                             Synchronized TheBeard_AG\n",
      "da750b72a82d Northwind                                      Synchronized TheBeard_AG\n",
      "da750b72a82d pubs                                                        \n",
      "c134b2316f63 AdventureWorks2017                            Synchronizing TheBeard_AG\n",
      "c134b2316f63 Northwind                                     Synchronizing TheBeard_AG\n",
      "c134b2316f63 pubs                                                        \n",
      "\n"
     ]
    }
   ],
   "source": [
    "Get-DbaDatabase -SqlInstance $SQL1, $SQL2 -ExcludeSystem | Select SqlInstance, Name, AvailabilityDatabaseSynchronizationState, AvailabilityGroupName "
   ]
  },
  {
   "cell_type": "markdown",
   "metadata": {},
   "source": [
    "You can see that the pubs database is not joined to the Availability Group"
   ]
  },
  {
   "cell_type": "markdown",
   "metadata": {},
   "source": [
    "# Failover\n",
    "\n",
    "You can use dbatools to failover the Availability Group. Lets take a look at the Availability Group"
   ]
  },
  {
   "cell_type": "code",
   "execution_count": 68,
   "metadata": {},
   "outputs": [
    {
     "name": "stdout",
     "output_type": "stream",
     "text": [
      "\n",
      "ComputerName               : localhost\n",
      "InstanceName               : MSSQLSERVER\n",
      "SqlInstance                : da750b72a82d\n",
      "LocalReplicaRole           : Primary\n",
      "AvailabilityGroup          : TheBeard_AG\n",
      "PrimaryReplica             : da750b72a82d\n",
      "ClusterType                : None\n",
      "DtcSupportEnabled          : False\n",
      "AutomatedBackupPreference  : Secondary\n",
      "AvailabilityReplicas       : {c134b2316f63, da750b72a82d}\n",
      "AvailabilityDatabases      : {AdventureWorks2017, Northwind}\n",
      "AvailabilityGroupListeners : {}\n",
      "\n",
      "\n"
     ]
    }
   ],
   "source": [
    "Get-DbaAvailabilityGroup -SqlInstance $SQL1"
   ]
  },
  {
   "cell_type": "markdown",
   "metadata": {},
   "source": [
    "The primary replica for the Availability Group is SQL1. Lets fail it over to SQL2"
   ]
  },
  {
   "cell_type": "code",
   "execution_count": 70,
   "metadata": {},
   "outputs": [
    {
     "name": "stdout",
     "output_type": "stream",
     "text": [
      "\n",
      "\u001b[95mConfirm\u001b[0m\n",
      "Are you sure you want to perform this action?\n",
      "Performing the operation \"Gracefully failing over TheBeard_AG\" on target \"localhost,15593\".\n",
      "\u001b[93m[Y] Yes  \u001b[0m\u001b[95m[A] Yes to All  \u001b[0m\u001b[95m[N] No  \u001b[0m\u001b[95m[L] No to All  \u001b[0m\u001b[95m[S] Suspend  \u001b[0m[?] Help(default is 'Y')"
     ]
    },
    {
     "name": "stdin",
     "output_type": "stream",
     "text": [
      "Select:  y\n"
     ]
    },
    {
     "name": "stdout",
     "output_type": "stream",
     "text": [
      "\u001b[93mWARNING: [09:14:35][Invoke-DbaAgFailover] Failure | Cannot failover an availability replica for availability group 'TheBeard_AG' since it has CLUSTER_TYPE = NONE. Only force failover is supported in this version of SQL Server.\u001b[0m\n"
     ]
    }
   ],
   "source": [
    " Invoke-DbaAgFailover -SqlInstance $SQL2 -AvailabilityGroup TheBeard_AG"
   ]
  },
  {
   "cell_type": "markdown",
   "metadata": {},
   "source": [
    "It has prompted us for confirmation and then told us that the cluster type that we have used for the containers does not support this type of failover so we need to use the force                     parameter"
   ]
  },
  {
   "cell_type": "code",
   "execution_count": 71,
   "metadata": {},
   "outputs": [
    {
     "name": "stdout",
     "output_type": "stream",
     "text": [
      "\n",
      "ComputerName               : localhost\n",
      "InstanceName               : MSSQLSERVER\n",
      "SqlInstance                : c134b2316f63\n",
      "LocalReplicaRole           : Primary\n",
      "AvailabilityGroup          : TheBeard_AG\n",
      "PrimaryReplica             : c134b2316f63\n",
      "ClusterType                : None\n",
      "DtcSupportEnabled          : False\n",
      "AutomatedBackupPreference  : Secondary\n",
      "AvailabilityReplicas       : {c134b2316f63, da750b72a82d}\n",
      "AvailabilityDatabases      : {AdventureWorks2017, Northwind}\n",
      "AvailabilityGroupListeners : {}\n",
      "\n",
      "\n"
     ]
    }
   ],
   "source": [
    " Invoke-DbaAgFailover -SqlInstance $SQL2 -AvailabilityGroup TheBeard_AG -Force"
   ]
  },
  {
   "cell_type": "markdown",
   "metadata": {},
   "source": [
    "When we check the Availability Group on SQL1 again"
   ]
  },
  {
   "cell_type": "code",
   "execution_count": 72,
   "metadata": {},
   "outputs": [
    {
     "name": "stdout",
     "output_type": "stream",
     "text": [
      "\n",
      "ComputerName               : localhost\n",
      "InstanceName               : MSSQLSERVER\n",
      "SqlInstance                : da750b72a82d\n",
      "LocalReplicaRole           : Primary\n",
      "AvailabilityGroup          : TheBeard_AG\n",
      "PrimaryReplica             : da750b72a82d\n",
      "ClusterType                : None\n",
      "DtcSupportEnabled          : False\n",
      "AutomatedBackupPreference  : Secondary\n",
      "AvailabilityReplicas       : {c134b2316f63, da750b72a82d}\n",
      "AvailabilityDatabases      : {AdventureWorks2017, Northwind}\n",
      "AvailabilityGroupListeners : {}\n",
      "\n",
      "\n"
     ]
    }
   ],
   "source": [
    "Get-DbaAvailabilityGroup -SqlInstance $SQL1"
   ]
  },
  {
   "cell_type": "markdown",
   "metadata": {},
   "source": [
    "You can see by comparing the output that the primary replica has swapped to the other container. I know it is a little hard to see with container names"
   ]
  },
  {
   "cell_type": "code",
   "execution_count": 73,
   "metadata": {},
   "outputs": [
    {
     "name": "stdout",
     "output_type": "stream",
     "text": [
      "\n",
      "SqlInstance  Name               AvailabilityDatabaseSynchronizationState AvailabilityGroupName\n",
      "-----------  ----               ---------------------------------------- ---------------------\n",
      "da750b72a82d AdventureWorks2017                         NotSynchronizing TheBeard_AG\n",
      "da750b72a82d Northwind                                  NotSynchronizing TheBeard_AG\n",
      "da750b72a82d pubs                                                        \n",
      "c134b2316f63 AdventureWorks2017                             Synchronized TheBeard_AG\n",
      "c134b2316f63 Northwind                                      Synchronized TheBeard_AG\n",
      "c134b2316f63 pubs                                                        \n",
      "\n"
     ]
    }
   ],
   "source": [
    "Get-DbaDatabase -SqlInstance $SqlInstances -SqlCredential $SqlCredential -ExcludeSystem | Select SqlInstance, Name, AvailabilityDatabaseSynchronizationState, AvailabilityGroupName "
   ]
  },
  {
   "cell_type": "code",
   "execution_count": 74,
   "metadata": {},
   "outputs": [
    {
     "name": "stdout",
     "output_type": "stream",
     "text": [
      "\n",
      "\u001b[95mConfirm\u001b[0m\n",
      "Are you sure you want to perform this action?\n",
      "Performing the operation \"Seting availability group  to \" on target \"\".\n",
      "\u001b[93m[Y] Yes  \u001b[0m\u001b[95m[A] Yes to All  \u001b[0m\u001b[95m[N] No  \u001b[0m\u001b[95m[L] No to All  \u001b[0m\u001b[95m[S] Suspend  \u001b[0m[?] Help(default is 'Y')"
     ]
    },
    {
     "name": "stdin",
     "output_type": "stream",
     "text": [
      "Select:  a\n"
     ]
    },
    {
     "name": "stdout",
     "output_type": "stream",
     "text": [
      "\n",
      "ComputerName         : localhost\n",
      "InstanceName         : MSSQLSERVER\n",
      "SqlInstance          : c134b2316f63\n",
      "AvailabilityGroup    : TheBeard_AG\n",
      "Replica              : localhost\n",
      "Name                 : AdventureWorks2017\n",
      "SynchronizationState : NotSynchronizing\n",
      "IsFailoverReady      : True\n",
      "IsJoined             : True\n",
      "IsSuspended          : True\n",
      "\n",
      "ComputerName         : localhost\n",
      "InstanceName         : MSSQLSERVER\n",
      "SqlInstance          : c134b2316f63\n",
      "AvailabilityGroup    : TheBeard_AG\n",
      "Replica              : localhost\n",
      "Name                 : Northwind\n",
      "SynchronizationState : NotSynchronizing\n",
      "IsFailoverReady      : True\n",
      "IsJoined             : True\n",
      "IsSuspended          : True\n",
      "\n",
      "\n"
     ]
    }
   ],
   "source": [
    "Get-DbaAgDatabase -SqlInstance $sql2  | Suspend-DbaAgDbDataMovement"
   ]
  },
  {
   "cell_type": "code",
   "execution_count": 75,
   "metadata": {},
   "outputs": [
    {
     "name": "stdout",
     "output_type": "stream",
     "text": [
      "\n",
      "\u001b[95mConfirm\u001b[0m\n",
      "Are you sure you want to perform this action?\n",
      "Performing the operation \"Seting availability group  to \" on target \"\".\n",
      "\u001b[93m[Y] Yes  \u001b[0m\u001b[95m[A] Yes to All  \u001b[0m\u001b[95m[N] No  \u001b[0m\u001b[95m[L] No to All  \u001b[0m\u001b[95m[S] Suspend  \u001b[0m[?] Help(default is 'Y')"
     ]
    },
    {
     "name": "stdin",
     "output_type": "stream",
     "text": [
      "Select:  a\n"
     ]
    },
    {
     "name": "stdout",
     "output_type": "stream",
     "text": [
      "\n",
      "ComputerName         : localhost\n",
      "InstanceName         : MSSQLSERVER\n",
      "SqlInstance          : da750b72a82d\n",
      "AvailabilityGroup    : TheBeard_AG\n",
      "Replica              : localhost\n",
      "Name                 : AdventureWorks2017\n",
      "SynchronizationState : NotSynchronizing\n",
      "IsFailoverReady      : False\n",
      "IsJoined             : True\n",
      "IsSuspended          : False\n",
      "\n",
      "ComputerName         : localhost\n",
      "InstanceName         : MSSQLSERVER\n",
      "SqlInstance          : da750b72a82d\n",
      "AvailabilityGroup    : TheBeard_AG\n",
      "Replica              : localhost\n",
      "Name                 : Northwind\n",
      "SynchronizationState : NotSynchronizing\n",
      "IsFailoverReady      : False\n",
      "IsJoined             : True\n",
      "IsSuspended          : False\n",
      "\n",
      "\n"
     ]
    }
   ],
   "source": [
    "Get-DbaAgDatabase -SqlInstance $sql1  | Resume-DbaAgDbDataMovement"
   ]
  },
  {
   "cell_type": "code",
   "execution_count": 77,
   "metadata": {},
   "outputs": [
    {
     "name": "stdout",
     "output_type": "stream",
     "text": [
      "\n",
      "SqlInstance  Name               AvailabilityDatabaseSynchronizationState AvailabilityGroupName\n",
      "-----------  ----               ---------------------------------------- ---------------------\n",
      "da750b72a82d AdventureWorks2017                         NotSynchronizing TheBeard_AG\n",
      "da750b72a82d Northwind                                  NotSynchronizing TheBeard_AG\n",
      "da750b72a82d pubs                                                        \n",
      "c134b2316f63 AdventureWorks2017                         NotSynchronizing TheBeard_AG\n",
      "c134b2316f63 Northwind                                  NotSynchronizing TheBeard_AG\n",
      "c134b2316f63 pubs                                                        \n",
      "\n"
     ]
    }
   ],
   "source": [
    "Get-DbaDatabase -SqlInstance $SqlInstances -SqlCredential $SqlCredential -ExcludeSystem | Select SqlInstance, Name, AvailabilityDatabaseSynchronizationState, AvailabilityGroupName "
   ]
  },
  {
   "cell_type": "markdown",
   "metadata": {},
   "source": [
    "# Clean Up\n",
    "\n",
    "The 99-CleanUpContainers notebook will remove the containers, files and directory - it will leave the image so you do not have to download it again!"
   ]
  },
  {
   "cell_type": "code",
   "execution_count": null,
   "metadata": {},
   "outputs": [],
   "source": []
  }
 ],
 "metadata": {
  "kernelspec": {
   "display_name": ".NET (PowerShell)",
   "language": "PowerShell",
   "name": ".net-powershell"
  },
  "language_info": {
   "file_extension": ".ps1",
   "mimetype": "text/x-powershell",
   "name": "PowerShell",
   "pygments_lexer": "powershell",
   "version": "7.0"
  }
 },
 "nbformat": 4,
 "nbformat_minor": 4
}
