{
 "cells": [
  {
   "cell_type": "markdown",
   "metadata": {},
   "source": [
    "# Availability Groups\n",
    "\n",
    "Setting up availabilty groups is hard\n",
    "\n",
    "with dbatools it is a little easier :-)\n",
    "\n",
    "The next block sets the variables for tje instances and folder paths for this Notebook and checks the connection - Refer to the first notebook for any issues"
   ]
  },
  {
   "cell_type": "code",
   "execution_count": 30,
   "metadata": {},
   "outputs": [
    {
     "name": "stdout",
     "output_type": "stream",
     "text": [
      " Creating connection to the containers\n",
      "We have a connection to the containers\n"
     ]
    }
   ],
   "source": [
    "$FolderPath = $Env:USERPROFILE + '\\Documents\\dbatoolsdemo'\n",
    "$SqlInstances = 'localhost,15592', 'localhost,15593'\n",
    "$SqlCredential = Import-Clixml -Path $FolderPath\\sqladmin.cred\n",
    "Write-Output \" Creating connection to the containers\"\n",
    "try {\n",
    "    $SQL1 = Connect-DbaInstance -SqlInstance $SqlInstances[0] -SqlCredential $SqlCredential \n",
    "    $SQL2 = Connect-DbaInstance -SqlInstance $SqlInstances[1] -SqlCredential $SqlCredential\n",
    "    Write-Output \"We have a connection to the containers\"\n",
    "\n",
    "}\n",
    "catch {\n",
    "    Write-Output \"You haven't got a connection to the containers - Either they are still upgrading in which case try again in 30 seconds or the containers have not come up correctly\"\n",
    "    Write-Output \"Make sure the containers are running - the code is below in a block for you\"\n",
    "    Write-Output \"docker ps -a\"\n",
    "    Write-Output \"If they are read the logs - the code is below in a block for you\"\n",
    "    Write-Output \"docker logs dbatools_SQL2019_1\"\n",
    "    Write-Output \"docker logs dbatools_SQL2019-1_1\"\n",
    "}"
   ]
  },
  {
   "cell_type": "markdown",
   "metadata": {},
   "source": [
    "**NEVER EVER DO THIS IN PRODUCTION**\n",
    "unless you need to delete all of your user databases for some reason\n"
   ]
  },
  {
   "cell_type": "code",
   "execution_count": 8,
   "metadata": {},
   "outputs": [
    {
     "name": "stdout",
     "output_type": "stream",
     "text": [
      "\n",
      "ComputerName : localhost\n",
      "InstanceName : MSSQLSERVER\n",
      "SqlInstance  : 8d2d018abf91\n",
      "Database     : AdventureWorks2017\n",
      "Status       : Dropped\n",
      "\n",
      "ComputerName : localhost\n",
      "InstanceName : MSSQLSERVER\n",
      "SqlInstance  : 8d2d018abf91\n",
      "Database     : Northwind\n",
      "Status       : Dropped\n",
      "\n",
      "ComputerName : localhost\n",
      "InstanceName : MSSQLSERVER\n",
      "SqlInstance  : 8d2d018abf91\n",
      "Database     : pubs\n",
      "Status       : Dropped\n",
      "\n",
      "\n"
     ]
    }
   ],
   "source": [
    "Get-DbaDatabase -SqlInstance $SQL2 -ExcludeAllSystemDb | Remove-DbaDatabase -Confirm:$false"
   ]
  },
  {
   "cell_type": "markdown",
   "metadata": {},
   "source": [
    "# Containers\n",
    "\n",
    "dbatools is not able to create availability groups in containers, so we will create an availability group below using T-SQL. If you are not using containers you can create an availability group with dbatools like this\n",
    "\n",
    "````\n",
    "$params = @{\n",
    "    Primary = $SqlInstances[0]\n",
    "    PrimarySqlCredential =  $SqlCredential \n",
    "    Secondary =   $SqlInstances[1]\n",
    "    SecondarySqlCredential = $SqlCredential \n",
    "    Name = 'TheBeard_AG'\n",
    "    Database = 'pubs','NorthWind','AdventureWorks2017'\n",
    "    ClusterType = \"None\"\n",
    "    SeedingMode = \"Automatic\"\n",
    "    FailoverMode = \"Manual\"\n",
    "    Confirm = $false\n",
    " }\n",
    " \n",
    "# execute the command\n",
    " New-DbaAvailabilityGroup @params\n",
    " ````\n",
    " \n",
    "There are many options that you can use here. Read the docs or get our book [beard.media\\book]([beard.media\\book)\n",
    "\n",
    "Lets create an availability group to use with this notebook\n",
    "\n",
    "First we shall create a master key on each instance"
   ]
  },
  {
   "cell_type": "code",
   "execution_count": 9,
   "metadata": {},
   "outputs": [
    {
     "name": "stdout",
     "output_type": "stream",
     "text": [
      "\n",
      "ComputerName        : localhost\n",
      "InstanceName        : MSSQLSERVER\n",
      "SqlInstance         : ce9a5ca3600e\n",
      "Database            : master\n",
      "CreateDate          : 09/03/2020 10:48:59\n",
      "DateLastModified    : 09/03/2020 10:48:59\n",
      "IsEncryptedByServer : True\n",
      "\n",
      "ComputerName        : localhost\n",
      "InstanceName        : MSSQLSERVER\n",
      "SqlInstance         : 8d2d018abf91\n",
      "Database            : master\n",
      "CreateDate          : 09/03/2020 10:48:59\n",
      "DateLastModified    : 09/03/2020 10:48:59\n",
      "IsEncryptedByServer : True\n",
      "\n",
      "\n"
     ]
    }
   ],
   "source": [
    "New-DbaDbMasterKey -SqlInstance $SQL1 -Credential $SqlCredential -Confirm:$false\n",
    "New-DbaDbMasterKey -SqlInstance $SQL2 -Credential $SqlCredential -Confirm:$false"
   ]
  },
  {
   "cell_type": "markdown",
   "metadata": {},
   "source": [
    "# Certificate\n",
    "\n",
    "Next we will create a certificate for the endpoints on SQL1, back it up and restore it on SQL2. You can do this for any certificate that you require by the way :-)"
   ]
  },
  {
   "cell_type": "code",
   "execution_count": 10,
   "metadata": {},
   "outputs": [
    {
     "name": "stdout",
     "output_type": "stream",
     "text": [
      "\n",
      "ComputerName                 : localhost\n",
      "InstanceName                 : MSSQLSERVER\n",
      "SqlInstance                  : ce9a5ca3600e\n",
      "Database                     : master\n",
      "Name                         : hadr_cert\n",
      "Subject                      : hadr_cert\n",
      "StartDate                    : 09/03/2020 00:00:00\n",
      "ActiveForServiceBrokerDialog : False\n",
      "ExpirationDate               : 09/03/2025 00:00:00\n",
      "Issuer                       : hadr_cert\n",
      "LastBackupDate               : 01/01/0001 00:00:00\n",
      "Owner                        : dbo\n",
      "PrivateKeyEncryptionType     : MasterKey\n",
      "Serial                       : 57 f7 db 5f ff 89 8d 97\n",
      "\n",
      "Certificate  : hadr_cert\n",
      "ComputerName : localhost\n",
      "Database     : master\n",
      "InstanceName : MSSQLSERVER\n",
      "Key          : /var/opt/mssql/backups/\\hadr_cert.pvk\n",
      "Path         : /var/opt/mssql/backups/\\hadr_cert.cer\n",
      "SqlInstance  : ce9a5ca3600e\n",
      "Status       : Success\n",
      "\n",
      "\n"
     ]
    }
   ],
   "source": [
    "New-DbaDbCertificate -SqlInstance $sql1 -Name hadr_cert -Subject hadr_cert \n",
    "\n",
    "$EncryptionPassword = ConvertTo-SecureString -AsPlainText \"Password4567!!\" -force\n",
    "Backup-DbaDbCertificate -SqlInstance $SQL1 -Suffix $null -Certificate hadr_cert -Path '/var/opt/mssql/backups/' -EncryptionPassword $EncryptionPassword \n"
   ]
  },
  {
   "cell_type": "markdown",
   "metadata": {},
   "source": [
    "Now we will use `Get-DbaFile` to ge the certificate path and then restore the certificate to SQL2\n",
    "This will prompt you to ask for input. If you did not wnat this, you can use `-Force` I am also showing verbose output here. All dbatools commands can output verbose information if you use the `-Verbose` switch"
   ]
  },
  {
   "cell_type": "code",
   "execution_count": 11,
   "metadata": {},
   "outputs": [
    {
     "name": "stdout",
     "output_type": "stream",
     "text": [
      "\u001b[93mVERBOSE: [19:20:17][Restore-DbaDbCertificate] Processing /var/opt/mssql/backups/\\hadr_cert.cer\u001b[0m\n",
      "\n",
      "\u001b[95mConfirm\u001b[0m\n",
      "Are you sure you want to perform this action?\n",
      "Performing the operation \"Importing Certificate\" on target \"hadr_cert on localhost,15593\".\n",
      "\u001b[93m[Y] Yes  \u001b[0m\u001b[95m[A] Yes to All  \u001b[0m\u001b[95m[N] No  \u001b[0m\u001b[95m[L] No to All  \u001b[0m\u001b[95m[S] Suspend  \u001b[0m[?] Help(default is 'Y')"
     ]
    },
    {
     "name": "stdin",
     "output_type": "stream",
     "text": [
      "Select:  y\n"
     ]
    },
    {
     "name": "stdout",
     "output_type": "stream",
     "text": [
      "\u001b[93mVERBOSE: [19:20:24][Restore-DbaDbCertificate] Creating Certificate: hadr_cert\u001b[0m\n",
      "\u001b[93mVERBOSE: [19:20:24][Restore-DbaDbCertificate] Full certificate path: \\var\\opt\\mssql\\backups\\\\hadr_cert.cer\u001b[0m\n",
      "\u001b[93mVERBOSE: [19:20:24][Restore-DbaDbCertificate] Private key: \\var\\opt\\mssql\\backups\\\\hadr_cert.pvk\u001b[0m\n",
      "\n",
      "ComputerName                 : localhost\n",
      "InstanceName                 : MSSQLSERVER\n",
      "SqlInstance                  : 8d2d018abf91\n",
      "Database                     : master\n",
      "Name                         : hadr_cert\n",
      "Subject                      : hadr_cert\n",
      "StartDate                    : 09/03/2020 00:00:00\n",
      "ActiveForServiceBrokerDialog : True\n",
      "ExpirationDate               : 09/03/2025 00:00:00\n",
      "Issuer                       : hadr_cert\n",
      "LastBackupDate               : 01/01/0001 00:00:00\n",
      "Owner                        : dbo\n",
      "PrivateKeyEncryptionType     : MasterKey\n",
      "Serial                       : 57 f7 db 5f ff 89 8d 97\n",
      "\n",
      "\n"
     ]
    }
   ],
   "source": [
    "$Certificate = (Get-DbaFile -SqlInstance $sql2 -Path '/var/opt/mssql/backups/' -FileType cer).FileName\n",
    "Restore-DbaDbCertificate -SqlInstance $SQL2 -Path $Certificate -DecryptionPassword $EncryptionPassword  -Verbose\n"
   ]
  },
  {
   "cell_type": "code",
   "execution_count": null,
   "metadata": {},
   "outputs": [],
   "source": [
    "# Endpoints\n",
    "Now that we have the certificates on each instance, we can create the endpoints using the certificate and start them"
   ]
  },
  {
   "cell_type": "code",
   "execution_count": 12,
   "metadata": {},
   "outputs": [
    {
     "name": "stdout",
     "output_type": "stream",
     "text": [
      "\n",
      "\u001b[95mPowerShell credential request\u001b[0m\n",
      "Enter your credentials.\n"
     ]
    },
    {
     "name": "stdin",
     "output_type": "stream",
     "text": [
      "Password for user -:  \n"
     ]
    },
    {
     "name": "stdout",
     "output_type": "stream",
     "text": [
      "\n",
      "\n",
      "ComputerName    : localhost\n",
      "InstanceName    : MSSQLSERVER\n",
      "SqlInstance     : ce9a5ca3600e\n",
      "ID              : 65536\n",
      "Name            : hadr_endpoint\n",
      "Port            : 5022\n",
      "EndpointState   : Stopped\n",
      "EndpointType    : DatabaseMirroring\n",
      "Owner           : sqladmin\n",
      "IsAdminEndpoint : False\n",
      "Fqdn            : TCP://BEARDXPS:5022\n",
      "IsSystemObject  : False\n",
      "\n",
      "ComputerName    : localhost\n",
      "InstanceName    : MSSQLSERVER\n",
      "SqlInstance     : 8d2d018abf91\n",
      "ID              : 65536\n",
      "Name            : hadr_endpoint\n",
      "Port            : 5023\n",
      "EndpointState   : Stopped\n",
      "EndpointType    : DatabaseMirroring\n",
      "Owner           : sqladmin\n",
      "IsAdminEndpoint : False\n",
      "Fqdn            : TCP://BEARDXPS:5023\n",
      "IsSystemObject  : False\n",
      "\n",
      "ComputerName    : localhost\n",
      "InstanceName    : MSSQLSERVER\n",
      "SqlInstance     : ce9a5ca3600e\n",
      "ID              : 65536\n",
      "Name            : hadr_endpoint\n",
      "Port            : 5022\n",
      "EndpointState   : Started\n",
      "EndpointType    : DatabaseMirroring\n",
      "Owner           : sqladmin\n",
      "IsAdminEndpoint : False\n",
      "Fqdn            : TCP://BEARDXPS:5022\n",
      "IsSystemObject  : False\n",
      "\n",
      "ComputerName    : localhost\n",
      "InstanceName    : MSSQLSERVER\n",
      "SqlInstance     : 8d2d018abf91\n",
      "ID              : 65536\n",
      "Name            : hadr_endpoint\n",
      "Port            : 5023\n",
      "EndpointState   : Started\n",
      "EndpointType    : DatabaseMirroring\n",
      "Owner           : sqladmin\n",
      "IsAdminEndpoint : False\n",
      "Fqdn            : TCP://BEARDXPS:5023\n",
      "IsSystemObject  : False\n",
      "\n",
      "\n"
     ]
    }
   ],
   "source": [
    "New-DbaEndpoint -SqlInstance $sql1 -Name hadr_endpoint -Port 5022 -Certificate hadr_cert \n",
    "New-DbaEndpoint -SqlInstance $sql2 -Name hadr_endpoint -Port 5023 -Certificate hadr_cert\n",
    "\n",
    "Start-DbaEndpoint -SqlInstance $SQL1 -EndPoint hadr_endpoint\n",
    "Start-DbaEndpoint -SqlInstance $SQL2 -EndPoint hadr_endpoint"
   ]
  },
  {
   "cell_type": "markdown",
   "metadata": {},
   "source": [
    "# Create the Availability Group\n",
    "\n",
    "we have to use T-SQL to get the right information only because we are using containers"
   ]
  },
  {
   "cell_type": "code",
   "execution_count": 13,
   "metadata": {
    "jupyter": {
     "source_hidden": true
    }
   },
   "outputs": [],
   "source": [
    "\n",
    "$query = @\"\n",
    "CREATE AVAILABILITY GROUP [TheBeard_AG]\n",
    "    WITH (CLUSTER_TYPE = NONE)\n",
    "    FOR REPLICA ON\n",
    "        N'$($sql1.ComputerNamePhysicalNetBIOS)' WITH (\n",
    "            ENDPOINT_URL = N'tcp://dbatools_SQL2019_1:5022',\n",
    "\t\t    AVAILABILITY_MODE = ASYNCHRONOUS_COMMIT,\n",
    "\t\t    FAILOVER_MODE = MANUAL,\n",
    "\t\t    SEEDING_MODE = AUTOMATIC,\n",
    "                    SECONDARY_ROLE (ALLOW_CONNECTIONS = ALL)\n",
    "\t\t    ),\n",
    "        N'$($sql2.ComputerNamePhysicalNetBIOS)' WITH ( \n",
    "\t\t    ENDPOINT_URL = N'tcp://dbatools_SQL2019-1_1:5023', \n",
    "\t\t    AVAILABILITY_MODE = ASYNCHRONOUS_COMMIT,\n",
    "\t\t    FAILOVER_MODE = MANUAL,\n",
    "\t\t    SEEDING_MODE = AUTOMATIC,\n",
    "\t\t    SECONDARY_ROLE (ALLOW_CONNECTIONS = ALL)\n",
    "\t\t    );\n",
    "\t\t\n",
    "ALTER AVAILABILITY GROUP [TheBeard_AG] GRANT CREATE ANY DATABASE;\n",
    "\"@\n",
    "\n",
    "Invoke-DbaQuery -SqlInstance $sql1 -Query $query\n",
    "\n",
    "$query = @\"\n",
    "ALTER AVAILABILITY GROUP [TheBeard_AG] JOIN WITH (CLUSTER_TYPE = NONE);\n",
    "\t\t \n",
    "ALTER AVAILABILITY GROUP [TheBeard_AG] GRANT CREATE ANY DATABASE;\n",
    "\"@\n",
    "\n",
    "Invoke-DbaQuery -SqlInstance $sql2 -Query $query\n"
   ]
  },
  {
   "cell_type": "markdown",
   "metadata": {},
   "source": [
    "we can check that the availability groups on an instance using `Get-DbaAvailabilityGroup`"
   ]
  },
  {
   "cell_type": "code",
   "execution_count": 14,
   "metadata": {},
   "outputs": [
    {
     "name": "stdout",
     "output_type": "stream",
     "text": [
      "\n",
      "ComputerName               : localhost\n",
      "InstanceName               : MSSQLSERVER\n",
      "SqlInstance                : ce9a5ca3600e\n",
      "LocalReplicaRole           : Primary\n",
      "AvailabilityGroup          : TheBeard_AG\n",
      "PrimaryReplica             : ce9a5ca3600e\n",
      "ClusterType                : None\n",
      "DtcSupportEnabled          : False\n",
      "AutomatedBackupPreference  : Secondary\n",
      "AvailabilityReplicas       : {8d2d018abf91, ce9a5ca3600e}\n",
      "AvailabilityDatabases      : {}\n",
      "AvailabilityGroupListeners : {}\n",
      "\n",
      "\n"
     ]
    }
   ],
   "source": [
    "Get-DbaAvailabilityGroup -SqlInstance $sql1 "
   ]
  },
  {
   "cell_type": "markdown",
   "metadata": {},
   "source": [
    "Excellent, we have an availablity group - Lets check the replicas"
   ]
  },
  {
   "cell_type": "code",
   "execution_count": 15,
   "metadata": {},
   "outputs": [
    {
     "name": "stdout",
     "output_type": "stream",
     "text": [
      "\n",
      "ComputerName               : localhost\n",
      "InstanceName               : MSSQLSERVER\n",
      "SqlInstance                : ce9a5ca3600e\n",
      "AvailabilityGroup          : TheBeard_AG\n",
      "Name                       : 8d2d018abf91\n",
      "Role                       : Secondary\n",
      "ConnectionState            : Connected\n",
      "RollupSynchronizationState : NotSynchronizing\n",
      "AvailabilityMode           : AsynchronousCommit\n",
      "BackupPriority             : 50\n",
      "EndpointUrl                : tcp://dbatools_SQL2019-1_1:5023\n",
      "SessionTimeout             : 10\n",
      "FailoverMode               : Manual\n",
      "ReadonlyRoutingList        : {}\n",
      "\n",
      "ComputerName               : localhost\n",
      "InstanceName               : MSSQLSERVER\n",
      "SqlInstance                : ce9a5ca3600e\n",
      "AvailabilityGroup          : TheBeard_AG\n",
      "Name                       : ce9a5ca3600e\n",
      "Role                       : Primary\n",
      "ConnectionState            : Connected\n",
      "RollupSynchronizationState : NotSynchronizing\n",
      "AvailabilityMode           : AsynchronousCommit\n",
      "BackupPriority             : 50\n",
      "EndpointUrl                : tcp://dbatools_SQL2019_1:5022\n",
      "SessionTimeout             : 10\n",
      "FailoverMode               : Manual\n",
      "ReadonlyRoutingList        : {}\n",
      "\n",
      "\n"
     ]
    }
   ],
   "source": [
    "Get-DbaAgReplica -SqlInstance $sql1"
   ]
  },
  {
   "cell_type": "markdown",
   "metadata": {},
   "source": [
    "We have two replicas - Right now they are not synchronising because there are no databases, You can use this command to see the rol up status for the replicas\n",
    "\n",
    "Let's check the databases"
   ]
  },
  {
   "cell_type": "code",
   "execution_count": 16,
   "metadata": {},
   "outputs": [],
   "source": [
    "Get-DbaAgDatabase -SqlInstance $SQL1"
   ]
  },
  {
   "cell_type": "markdown",
   "metadata": {},
   "source": [
    "There are no databases - Lets add the databases"
   ]
  },
  {
   "cell_type": "markdown",
   "metadata": {},
   "source": [
    "# Recovery Mode\n",
    "\n",
    "We need ot set the recovery mode of the databases to full"
   ]
  },
  {
   "cell_type": "code",
   "execution_count": 19,
   "metadata": {},
   "outputs": [
    {
     "name": "stdout",
     "output_type": "stream",
     "text": [
      "\n",
      "ComputerName   : localhost\n",
      "InstanceName   : MSSQLSERVER\n",
      "SqlInstance    : ce9a5ca3600e\n",
      "Name           : AdventureWorks2017\n",
      "Status         : Normal\n",
      "IsAccessible   : True\n",
      "RecoveryModel  : Full\n",
      "LastFullBackup : 21/12/2019 14:42:01\n",
      "LastDiffBackup : 21/12/2019 14:42:00\n",
      "LastLogBackup  : 01/01/0001 00:00:00\n",
      "\n",
      "ComputerName   : localhost\n",
      "InstanceName   : MSSQLSERVER\n",
      "SqlInstance    : ce9a5ca3600e\n",
      "Name           : Northwind\n",
      "Status         : Normal\n",
      "IsAccessible   : True\n",
      "RecoveryModel  : Full\n",
      "LastFullBackup : 21/12/2019 14:42:01\n",
      "LastDiffBackup : 21/12/2019 14:42:00\n",
      "LastLogBackup  : 01/01/0001 00:00:00\n",
      "\n",
      "ComputerName   : localhost\n",
      "InstanceName   : MSSQLSERVER\n",
      "SqlInstance    : ce9a5ca3600e\n",
      "Name           : pubs\n",
      "Status         : Normal\n",
      "IsAccessible   : True\n",
      "RecoveryModel  : Full\n",
      "LastFullBackup : 21/12/2019 14:42:02\n",
      "LastDiffBackup : 21/12/2019 14:42:00\n",
      "LastLogBackup  : 01/01/0001 00:00:00\n",
      "\n",
      "\n"
     ]
    }
   ],
   "source": [
    "Get-DbaDatabase -SqlInstance $SQL1 -ExcludeSystem | Set-DbaDbRecoveryModel -RecoveryModel Full -Confirm:$false"
   ]
  },
  {
   "cell_type": "markdown",
   "metadata": {},
   "source": [
    "# Backup\n",
    "\n",
    "Of course, having set the recovery model to full we need to back up the databases otherwise they are in PSUDOSIMPLE mode. You can see this. If we check the recovery model, it will show full"
   ]
  },
  {
   "cell_type": "code",
   "execution_count": 21,
   "metadata": {},
   "outputs": [
    {
     "name": "stdout",
     "output_type": "stream",
     "text": [
      "\n",
      "ComputerName   : localhost\n",
      "InstanceName   : MSSQLSERVER\n",
      "SqlInstance    : ce9a5ca3600e\n",
      "Name           : AdventureWorks2017\n",
      "Status         : Normal\n",
      "IsAccessible   : True\n",
      "RecoveryModel  : Full\n",
      "LastFullBackup : 21/12/2019 14:42:01\n",
      "LastDiffBackup : 21/12/2019 14:42:00\n",
      "LastLogBackup  : 01/01/0001 00:00:00\n",
      "\n",
      "ComputerName   : localhost\n",
      "InstanceName   : MSSQLSERVER\n",
      "SqlInstance    : ce9a5ca3600e\n",
      "Name           : Northwind\n",
      "Status         : Normal\n",
      "IsAccessible   : True\n",
      "RecoveryModel  : Full\n",
      "LastFullBackup : 21/12/2019 14:42:01\n",
      "LastDiffBackup : 21/12/2019 14:42:00\n",
      "LastLogBackup  : 01/01/0001 00:00:00\n",
      "\n",
      "ComputerName   : localhost\n",
      "InstanceName   : MSSQLSERVER\n",
      "SqlInstance    : ce9a5ca3600e\n",
      "Name           : pubs\n",
      "Status         : Normal\n",
      "IsAccessible   : True\n",
      "RecoveryModel  : Full\n",
      "LastFullBackup : 21/12/2019 14:42:02\n",
      "LastDiffBackup : 21/12/2019 14:42:00\n",
      "LastLogBackup  : 01/01/0001 00:00:00\n",
      "\n",
      "\n"
     ]
    }
   ],
   "source": [
    "Get-DbaDbRecoveryModel -SqlInstance $sql1 -Database AdventureWorks2017, Northwind, pubs"
   ]
  },
  {
   "cell_type": "markdown",
   "metadata": {},
   "source": [
    "but if we use `Test-DbaDbRecoveryModel` you can see that the *Actual* recovery model is SIMPLE"
   ]
  },
  {
   "cell_type": "code",
   "execution_count": 24,
   "metadata": {},
   "outputs": [
    {
     "name": "stdout",
     "output_type": "stream",
     "text": [
      "\n",
      "ComputerName            : ce9a5ca3600e\n",
      "InstanceName            : MSSQLSERVER\n",
      "SqlInstance             : ce9a5ca3600e\n",
      "Database                : AdventureWorks2017\n",
      "ConfiguredRecoveryModel : FULL\n",
      "ActualRecoveryModel     : SIMPLE\n",
      "\n",
      "ComputerName            : ce9a5ca3600e\n",
      "InstanceName            : MSSQLSERVER\n",
      "SqlInstance             : ce9a5ca3600e\n",
      "Database                : Northwind\n",
      "ConfiguredRecoveryModel : FULL\n",
      "ActualRecoveryModel     : SIMPLE\n",
      "\n",
      "ComputerName            : ce9a5ca3600e\n",
      "InstanceName            : MSSQLSERVER\n",
      "SqlInstance             : ce9a5ca3600e\n",
      "Database                : pubs\n",
      "ConfiguredRecoveryModel : FULL\n",
      "ActualRecoveryModel     : SIMPLE\n",
      "\n",
      "\n"
     ]
    }
   ],
   "source": [
    "Test-DbaDbRecoveryModel -SqlInstance $sql1 -Database AdventureWorks2017, Northwind, pubs"
   ]
  },
  {
   "cell_type": "markdown",
   "metadata": {},
   "source": [
    "If we backup the databases (like we did in the BackupsandRestores notebook"
   ]
  },
  {
   "cell_type": "code",
   "execution_count": 26,
   "metadata": {},
   "outputs": [
    {
     "data": {
      "text/plain": []
     },
     "metadata": {},
     "output_type": "display_data"
    },
    {
     "name": "stdout",
     "output_type": "stream",
     "text": [
      "\n",
      "SqlInstance  Database           Type TotalSize DeviceType Start                   Duration End\n",
      "-----------  --------           ---- --------- ---------- -----                   -------- ---\n",
      "ce9a5ca3600e AdventureWorks2017 Full 207.09 MB Disk       2020-03-09 11:07:58.000 00:00:02 2020-03…\n",
      "ce9a5ca3600e Northwind          Full 6.71 MB   Disk       2020-03-09 11:08:01.000 00:00:01 2020-03…\n",
      "ce9a5ca3600e pubs               Full 4.52 MB   Disk       2020-03-09 11:08:02.000 00:00:00 2020-03…\n",
      "ce9a5ca3600e AdventureWorks2017 Log  84.00 KB  Disk       2020-03-09 11:08:03.000 00:00:00 2020-03…\n",
      "ce9a5ca3600e Northwind          Log  80.00 KB  Disk       2020-03-09 11:08:03.000 00:00:00 2020-03…\n",
      "ce9a5ca3600e pubs               Log  80.00 KB  Disk       2020-03-09 11:08:03.000 00:00:00 2020-03…\n",
      "\n"
     ]
    }
   ],
   "source": [
    "Backup-DbaDatabase -SqlInstance $SQL1 -Path /var/opt/mssql/backups/SQL1 -Database  AdventureWorks2017, Northwind, pubs -Type Full -IgnoreFileChecks\n",
    "Backup-DbaDatabase -SqlInstance $SQL1 -Path /var/opt/mssql/backups/SQL1 -Database  AdventureWorks2017, Northwind, pubs -Type Log -IgnoreFileChecks"
   ]
  },
  {
   "cell_type": "markdown",
   "metadata": {},
   "source": [
    "and test our recovery model again"
   ]
  },
  {
   "cell_type": "code",
   "execution_count": 27,
   "metadata": {},
   "outputs": [
    {
     "name": "stdout",
     "output_type": "stream",
     "text": [
      "\n",
      "ComputerName            : ce9a5ca3600e\n",
      "InstanceName            : MSSQLSERVER\n",
      "SqlInstance             : ce9a5ca3600e\n",
      "Database                : AdventureWorks2017\n",
      "ConfiguredRecoveryModel : FULL\n",
      "ActualRecoveryModel     : FULL\n",
      "\n",
      "ComputerName            : ce9a5ca3600e\n",
      "InstanceName            : MSSQLSERVER\n",
      "SqlInstance             : ce9a5ca3600e\n",
      "Database                : Northwind\n",
      "ConfiguredRecoveryModel : FULL\n",
      "ActualRecoveryModel     : FULL\n",
      "\n",
      "ComputerName            : ce9a5ca3600e\n",
      "InstanceName            : MSSQLSERVER\n",
      "SqlInstance             : ce9a5ca3600e\n",
      "Database                : pubs\n",
      "ConfiguredRecoveryModel : FULL\n",
      "ActualRecoveryModel     : FULL\n",
      "\n",
      "\n"
     ]
    }
   ],
   "source": [
    "Test-DbaDbRecoveryModel -SqlInstance $sql1 -Database AdventureWorks2017, Northwind, pubs"
   ]
  },
  {
   "cell_type": "markdown",
   "metadata": {},
   "source": [
    "All our databases are now in FULL recovery :-)\n",
    "\n",
    "Let's add them to the Availability Group"
   ]
  },
  {
   "cell_type": "code",
   "execution_count": 31,
   "metadata": {},
   "outputs": [
    {
     "name": "stdout",
     "output_type": "stream",
     "text": [
      "\u001b[93mWARNING: [19:41:37][Backup-DbaDatabase] No databases match the request for backups\u001b[0m\n",
      "\n",
      "ComputerName         : localhost\n",
      "InstanceName         : MSSQLSERVER\n",
      "SqlInstance          : ce9a5ca3600e\n",
      "AvailabilityGroup    : TheBeard_AG\n",
      "Replica              : localhost\n",
      "Name                 : AdventureWorks2017\n",
      "SynchronizationState : Synchronized\n",
      "IsFailoverReady      : True\n",
      "IsJoined             : True\n",
      "IsSuspended          : False\n",
      "\n"
     ]
    },
    {
     "data": {
      "text/plain": []
     },
     "metadata": {},
     "output_type": "display_data"
    },
    {
     "name": "stdout",
     "output_type": "stream",
     "text": [
      "ComputerName         : localhost\n",
      "InstanceName         : MSSQLSERVER\n",
      "SqlInstance          : 8d2d018abf91\n",
      "AvailabilityGroup    : TheBeard_AG\n",
      "Replica              : localhost\n",
      "Name                 : AdventureWorks2017\n",
      "SynchronizationState : Synchronizing\n",
      "IsFailoverReady      : False\n",
      "IsJoined             : True\n",
      "IsSuspended          : False\n",
      "\n",
      "\u001b[93mWARNING: [19:41:44][Backup-DbaDatabase] No databases match the request for backups\u001b[0m\n",
      "ComputerName         : localhost\n",
      "InstanceName         : MSSQLSERVER\n",
      "SqlInstance          : ce9a5ca3600e\n",
      "AvailabilityGroup    : TheBeard_AG\n",
      "Replica              : localhost\n",
      "Name                 : Northwind\n",
      "SynchronizationState : Synchronized\n",
      "IsFailoverReady      : True\n",
      "IsJoined             : True\n",
      "IsSuspended          : False\n",
      "\n",
      "\u001b[93mWARNING: [19:42:11][Add-DbaAgDatabase] Could not join  to localhost,15593\u001b[0m\n",
      "\u001b[93mWARNING: [19:42:11][Backup-DbaDatabase] No databases match the request for backups\u001b[0m\n",
      "ComputerName         : localhost\n",
      "InstanceName         : MSSQLSERVER\n",
      "SqlInstance          : ce9a5ca3600e\n",
      "AvailabilityGroup    : TheBeard_AG\n",
      "Replica              : localhost\n",
      "Name                 : pubs\n",
      "SynchronizationState : Synchronized\n",
      "IsFailoverReady      : True\n",
      "IsJoined             : True\n",
      "IsSuspended          : False\n",
      "\n",
      "\u001b[93mWARNING: [19:42:38][Add-DbaAgDatabase] Could not join  to localhost,15593\u001b[0m\n",
      "\n"
     ]
    }
   ],
   "source": [
    "Add-DbaAgDatabase -SqlInstance $sql1 -AvailabilityGroup TheBeard_AG -Database AdventureWorks2017, Northwind, pubs -Secondary $sql2 -SeedingMode Automatic"
   ]
  },
  {
   "cell_type": "markdown",
   "metadata": {},
   "source": [
    "Let's have a look at them\n"
   ]
  },
  {
   "cell_type": "code",
   "execution_count": 32,
   "metadata": {},
   "outputs": [
    {
     "name": "stdout",
     "output_type": "stream",
     "text": [
      "\n",
      "ComputerName         : localhost\n",
      "InstanceName         : MSSQLSERVER\n",
      "SqlInstance          : ce9a5ca3600e\n",
      "AvailabilityGroup    : TheBeard_AG\n",
      "Replica              : localhost\n",
      "Name                 : AdventureWorks2017\n",
      "SynchronizationState : Synchronized\n",
      "IsFailoverReady      : True\n",
      "IsJoined             : True\n",
      "IsSuspended          : False\n",
      "\n",
      "ComputerName         : localhost\n",
      "InstanceName         : MSSQLSERVER\n",
      "SqlInstance          : ce9a5ca3600e\n",
      "AvailabilityGroup    : TheBeard_AG\n",
      "Replica              : localhost\n",
      "Name                 : Northwind\n",
      "SynchronizationState : Synchronized\n",
      "IsFailoverReady      : True\n",
      "IsJoined             : True\n",
      "IsSuspended          : False\n",
      "\n",
      "ComputerName         : localhost\n",
      "InstanceName         : MSSQLSERVER\n",
      "SqlInstance          : ce9a5ca3600e\n",
      "AvailabilityGroup    : TheBeard_AG\n",
      "Replica              : localhost\n",
      "Name                 : pubs\n",
      "SynchronizationState : Synchronized\n",
      "IsFailoverReady      : True\n",
      "IsJoined             : True\n",
      "IsSuspended          : False\n",
      "\n",
      "\n"
     ]
    }
   ],
   "source": [
    "Get-DbaAgDatabase -SqlInstance $SQL1 "
   ]
  },
  {
   "cell_type": "markdown",
   "metadata": {},
   "source": [
    "You can look in SSMS if you like :-)\n",
    "\n",
    "![AG](.\\images\\ag.png )"
   ]
  },
  {
   "cell_type": "code",
   "execution_count": null,
   "metadata": {},
   "outputs": [],
   "source": []
  }
 ],
 "metadata": {
  "kernelspec": {
   "display_name": ".NET (PowerShell)",
   "language": "PowerShell",
   "name": ".net-powershell"
  },
  "language_info": {
   "file_extension": ".ps1",
   "mimetype": "text/x-powershell",
   "name": "PowerShell",
   "pygments_lexer": "powershell",
   "version": "7.0"
  }
 },
 "nbformat": 4,
 "nbformat_minor": 4
}
