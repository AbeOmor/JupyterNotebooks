{
    "metadata": {
        "kernelspec": {
            "name": "powershell",
            "display_name": "PowerShell"
        },
        "language_info": {
            "name": "powershell",
            "codemirror_mode": "shell",
            "mimetype": "text/x-sh",
            "file_extension": ".ps1"
        }
    },
    "nbformat_minor": 2,
    "nbformat": 4,
    "cells": [
        {
            "cell_type": "markdown",
            "source": [
                "# Checking Storage Accounts\r\n",
                "\r\n",
                "This notebook will check that the storage accounts are using the Express Route"
            ],
            "metadata": {
                "azdata_cell_guid": "04417740-e344-4a49-8eea-3b20087cfc9d"
            }
        },
        {
            "cell_type": "markdown",
            "source": [
                "## Make an Azure connection\r\n",
                "Next we need to make a connection to Azure for the PowerShell session. The cell below is going to do this but it has an idiosyncrasy. When you press the play button it will just spin\r\n",
                "\r\n",
                "![image](.\\Images\\01-Connect-Azure.png)  \r\n",
                "\r\n",
                "You will need to look for the sign in pop-up *behind* Azure Data Studio  \r\n",
                "\r\n",
                "![image](.\\Images\\02-Hidden-Window.png)\r\n",
                "\r\n",
                "Enter your credentials and then you will see a similar output to this if all is successful\r\n",
                "\r\n",
                "![image](.\\Images\\04-SuccessfulAzureConnection.png)\r\n",
                "\r\n",
                ""
            ],
            "metadata": {
                "azdata_cell_guid": "a4506b9e-66d5-4751-b7ad-813d82e7ef9c"
            }
        },
        {
            "cell_type": "code",
            "source": [
                "# Connect to Azure with a browser sign in token\r\n",
                "Connect-AzAccount"
            ],
            "metadata": {
                "azdata_cell_guid": "138b62d2-cd10-42c0-8779-f8ab477c4c33"
            },
            "outputs": [],
            "execution_count": null
        },
        {
            "cell_type": "markdown",
            "source": [
                "# Check and set the subscription\r\n",
                "\r\n",
                "Next, we need to list the subscriptions that you ahve access to and decide which one to use. This code will list the subscriptions that you have access to."
            ],
            "metadata": {
                "azdata_cell_guid": "44d34ffc-656e-43ad-ae62-33b79eab2fef"
            }
        },
        {
            "cell_type": "code",
            "source": [
                "Get-AzSubscription"
            ],
            "metadata": {
                "azdata_cell_guid": "76cb45ee-46be-4488-8918-72ce53e3b1b1"
            },
            "outputs": [],
            "execution_count": null
        },
        {
            "cell_type": "markdown",
            "source": [
                "Choose the subscription that you want to use from the results above amd copy the ID and use it in the below code"
            ],
            "metadata": {
                "azdata_cell_guid": "b05b23f8-0230-4fa5-a4c4-d8de884113e3"
            }
        },
        {
            "cell_type": "code",
            "source": [
                "$ID = '1ce00944-b7bb-4394-8303-8f43dba9e520'\r\n",
                "Set-AzContext -SubscriptionId $ID"
            ],
            "metadata": {
                "azdata_cell_guid": "439b2e1f-3ac3-41bd-8594-b081d6f56b5f"
            },
            "outputs": [],
            "execution_count": null
        },
        {
            "cell_type": "markdown",
            "source": [
                "## Listing Resource Groups\r\n",
                "\r\n",
                "We can list the resource groups that we have access to "
            ],
            "metadata": {
                "azdata_cell_guid": "c777e7fb-9423-4a79-9622-b0fddbd29dfd"
            }
        },
        {
            "cell_type": "code",
            "source": [
                "Get-AzResourceGroup | Format-Table"
            ],
            "metadata": {
                "azdata_cell_guid": "12674f0d-217f-43ec-b9a1-291792713ef2"
            },
            "outputs": [],
            "execution_count": null
        },
        {
            "cell_type": "markdown",
            "source": [
                "# List Storage Accounts\r\n",
                "\r\n",
                "We can list the storage accounts we have access to.\r\n",
                "\r\n",
                "Add the resource group names from the above results"
            ],
            "metadata": {
                "azdata_cell_guid": "a4e267cd-7e9e-4629-9114-b73e5eada43a"
            }
        },
        {
            "cell_type": "code",
            "source": [
                "$RGNames = 'edaa-eudl-nonprod-sql-rg','eudl-gldlsa-dev-rg','eudl-ukgida-dev-rg'\r\n",
                "$StorageAccounts = $RGNames.ForEach{\r\n",
                "    Get-AzStorageAccount -ResourceGroupName $psitem \r\n",
                "}\r\n",
                "$StorageAccounts | Format-Table"
            ],
            "metadata": {
                "azdata_cell_guid": "dae04cb1-a79c-4f1a-a8d5-cf2b072179e1"
            },
            "outputs": [],
            "execution_count": null
        },
        {
            "cell_type": "markdown",
            "source": [
                "If there are no results, you do not have access to see the storage accounts or there are no storage accounts"
            ],
            "metadata": {
                "azdata_cell_guid": "014bb3c1-d647-4204-8db1-2c057dfa643a"
            }
        },
        {
            "cell_type": "code",
            "source": [
                "$StorageAccounts | ForEach-Object {\r\n",
                "    $AzureAllowed = @{Name = 'AzureAllowed';Expression = {$Psitem.NetworkRuleSet.Where{$_.ByPass -eq 'AzureServices'}.DefaultAction}}\r\n",
                "    $VirtualNetworkRules = @{Name = 'VNetRules';Expression = {if($Psitem.NetworkRuleSet.VirtualNetworkRules){'Yes'}else{'No'} }}\r\n",
                "    $Psitem | Select ResourceGroupName ,StorageAccountName , $AzureAllowed, $VirtualNetworkRules\r\n",
                "}"
            ],
            "metadata": {
                "azdata_cell_guid": "ead03e0c-dd77-4c09-8d98-7dcbbf8139bd"
            },
            "outputs": [],
            "execution_count": null
        },
        {
            "cell_type": "code",
            "source": [
                "Get-AzStorageAccount"
            ],
            "metadata": {
                "azdata_cell_guid": "f3e5341f-d481-4814-910d-3c995f7b967b"
            },
            "outputs": [],
            "execution_count": null
        }
    ]
}