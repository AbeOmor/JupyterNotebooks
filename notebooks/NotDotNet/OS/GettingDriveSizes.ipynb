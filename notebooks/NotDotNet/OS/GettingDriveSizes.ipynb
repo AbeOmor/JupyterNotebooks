{
    "metadata": {
        "kernelspec": {
            "name": "SQL",
            "display_name": "SQL",
            "language": "sql"
        },
        "language_info": {
            "name": "sql",
            "version": ""
        }
    },
    "nbformat_minor": 2,
    "nbformat": 4,
    "cells": [
        {
            "cell_type": "markdown",
            "source": [
                "# Getting Drive Sizes, Labels and Capacity\r\n",
                "\r\n",
                "Connect to the Instance and run the below block. You dont even need to have permissions to the instance as it runs as SQL Service Account"
            ],
            "metadata": {
                "azdata_cell_guid": "e0368c4e-8fd6-47d3-b351-07ff24948d4a"
            }
        },
        {
            "cell_type": "code",
            "source": [
                "DECLARE @SQL NVARCHAR(500)\r\n",
                "DECLARE @PowerShell NVarchAr(500)\r\n",
                "\r\n",
                "SET @PowerShell = N' Get-CimInstance -Class Win32_logicaldisk -Filter \\\"DriveType = ''3''\\\" | Select-Object -Property DeviceID, VolumeName, @{L=''FreeSpaceGB'';E={\\\"{0:N2}\\\" -f ($_.FreeSpace /1GB)}},@{L=''Capacity'';E={\\\"{0:N2}\\\" -f ($_.Size/1GB)}} | ft -Auto '\r\n",
                "-- PRINT @PowerShell\r\n",
                "SET @sql =  N'powershell.exe -ExecutionPolicy Bypass -NoProfile -Command \"' + @PowerShell + '\"'\r\n",
                "-- PRINT @SQL\r\n",
                "EXEC master..xp_cmdshell @SQL"
            ],
            "metadata": {
                "azdata_cell_guid": "a6de939e-fe01-46c2-9322-672f6c5947b9"
            },
            "outputs": [],
            "execution_count": null
        }
    ]
}