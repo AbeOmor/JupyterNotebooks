{
    "metadata": {
        "kernelspec": {
            "name": "powershell",
            "display_name": "PowerShell"
        },
        "language_info": {
            "name": "powershell",
            "codemirror_mode": "shell",
            "mimetype": "text/x-sh",
            "file_extension": ".ps1"
        }
    },
    "nbformat_minor": 2,
    "nbformat": 4,
    "cells": [
        {
            "cell_type": "markdown",
            "source": [
                "# Setting up PowerShell for use\r\n",
                "\r\n",
                "This notebook contains the one off steps that you will need to do to set up PowerShell"
            ],
            "metadata": {
                "azdata_cell_guid": "c3e2c348-0ed0-4ee1-b729-4abe31acb2dd"
            }
        },
        {
            "cell_type": "markdown",
            "source": [
                "## Trust the PowerShell Gallery\r\n",
                "\r\n",
                "To trust the gallery so that we can install the required modules run the code cell below"
            ],
            "metadata": {
                "azdata_cell_guid": "d6ae7d9c-c138-4886-ba39-4200e8c2edc8"
            }
        },
        {
            "cell_type": "code",
            "source": [
                "# Set up PSGallery\r\n",
                "\r\n",
                "if ((Get-PsRepository -Name PSGallery).InstallationPolicy -ne 'Trusted') {\r\n",
                "    Write-Output \"The PowerShell Gallery is not trusted so I will trust it so that we can install the modules without interaction\"\r\n",
                "    try {\r\n",
                "        Set-PsRepository -Name PSGallery -InstallationPolicy Trusted -ErrorAction Stop\r\n",
                "    }\r\n",
                "    catch {\r\n",
                "        Write-Output \" Failed to trust the gallery, follow the manual steps below\"\r\n",
                "    }\r\n",
                "    \r\n",
                "}\r\n",
                "else {\r\n",
                "    Write-Output \"The PowerShell Gallery is trusted I will continue\"\r\n",
                "}\r\n",
                ""
            ],
            "metadata": {
                "azdata_cell_guid": "3a23f8af-c664-4999-973a-2ebdc4c5b52c"
            },
            "outputs": [],
            "execution_count": null
        },
        {
            "cell_type": "markdown",
            "source": [
                "## Install NuGet\r\n",
                "\r\n",
                "If you are told to follow the manual steps below, we need to install the nuget package provider to interact with the PowerShell Gallery. To do this, we need to open PowerShell as Admin by shift right clicking on the PowerShell Icon and then Run As Adminstrator.\r\n",
                "\r\n",
                "Copy this code and run it\r\n",
                "\r\n",
                "````\r\n",
                "Install-PackageProvider NuGet -MinimumVersion 2.8.5.201 -Force \r\n",
                "Import-PackageProvider NuGet -RequiredVersion 2.8.5.201 -Force \r\n",
                "Set-PSRepository -Name PSGallery -InstallationPolicy Trusted\r\n",
                "````\r\n",
                "If you cannot run this as administrator, then you can do this for just your own user, open PowerShell and run this code\r\n",
                "\r\n",
                "````\r\n",
                "Install-PackageProvider NuGet -MinimumVersion 2.8.5.201 -Scope CurrentUser -Force \r\n",
                "Import-PackageProvider NuGet -RequiredVersion 2.8.5.201 -Force \r\n",
                "Set-PSRepository -Name PSGallery -InstallationPolicy Trusted\r\n",
                "````\r\n",
                "Then run the above code cell again to trust the PowerShell Gallery"
            ],
            "metadata": {
                "azdata_cell_guid": "fdacd9cb-9352-4901-ad8f-2de4d0250a5e"
            }
        },
        {
            "cell_type": "markdown",
            "source": [
                "## Install the required Modules\n",
                "\n",
                "We need to install some modules to use in the notebooks"
            ],
            "metadata": {
                "azdata_cell_guid": "e936eaff-a182-4c8f-9d34-5e62f49b1768"
            }
        },
        {
            "cell_type": "code",
            "source": [
                "#Check for modules and install\r\n",
                "$Modules = 'dbatools', 'DbaChecks', 'ImportExcel', 'AdsNotebook'\r\n",
                "$Modules.ForEach{\r\n",
                "    If (-not(Get-Module $psitem -ListAvailable)) {\r\n",
                "        Write-Output \"We don't have the $psitem module so we will install it\"\r\n",
                "        Install-Module $psitem -Scope CurrentUser -Force\r\n",
                "    }\r\n",
                "    else {\r\n",
                "        Write-Output \"We have the $psitem module already\"\r\n",
                "    }\r\n",
                "}"
            ],
            "metadata": {
                "azdata_cell_guid": "8bb6cc5f-d783-4e24-99dd-aaac6fcaaa42"
            },
            "outputs": [],
            "execution_count": null
        }
    ]
}